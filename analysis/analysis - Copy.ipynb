{
 "cells": [
  {
   "cell_type": "code",
   "execution_count": 1,
   "id": "3ddd3e75",
   "metadata": {},
   "outputs": [
    {
     "name": "stdout",
     "output_type": "stream",
     "text": [
      "guest\n",
      "YDPGL-XREXC-QGMZS-UAKES\n"
     ]
    }
   ],
   "source": [
    "import numpy as np\n",
    "import matplotlib.pyplot as plt\n",
    "import matplotlib.patches as patches\n",
    "import pandas as pd\n",
    "import warnings\n",
    "import matplotlib.colors as colors\n",
    "import matplotlib.animation as animation\n",
    "import matplotlib.lines as lines\n",
    "import datetime\n",
    "import math\n",
    "import csv\n",
    "import ast\n",
    "import importlib\n",
    "%matplotlib notebook\n",
    "\n",
    "from sociophysicsDataHandler import SociophysicsDataHandler\n",
    "\n",
    "!cat auth.txt\n",
    "# !pip install sociophysicsDataHandler==1.3.2"
   ]
  },
  {
   "cell_type": "code",
   "execution_count": 2,
   "id": "6e51d989",
   "metadata": {},
   "outputs": [
    {
     "data": {
      "text/plain": [
       "<module 'data_preparator_2' from 'C:\\\\Users\\\\20213186\\\\Documents\\\\GitHub\\\\sociophysics\\\\analysis\\\\data_preparator_2.py'>"
      ]
     },
     "execution_count": 2,
     "metadata": {},
     "output_type": "execute_result"
    }
   ],
   "source": [
    "import data_preparator_2 \n",
    "importlib.reload(data_preparator_2)"
   ]
  },
  {
   "cell_type": "code",
   "execution_count": 3,
   "id": "960fc617",
   "metadata": {},
   "outputs": [
    {
     "data": {
      "text/html": [
       "<div>\n",
       "<style scoped>\n",
       "    .dataframe tbody tr th:only-of-type {\n",
       "        vertical-align: middle;\n",
       "    }\n",
       "\n",
       "    .dataframe tbody tr th {\n",
       "        vertical-align: top;\n",
       "    }\n",
       "\n",
       "    .dataframe thead th {\n",
       "        text-align: right;\n",
       "    }\n",
       "</style>\n",
       "<table border=\"1\" class=\"dataframe\">\n",
       "  <thead>\n",
       "    <tr style=\"text-align: right;\">\n",
       "      <th></th>\n",
       "      <th>ID</th>\n",
       "      <th>Offboarding</th>\n",
       "      <th>Onboarding</th>\n",
       "      <th>Time</th>\n",
       "      <th>Zone</th>\n",
       "      <th>x_pos</th>\n",
       "      <th>y_pos</th>\n",
       "    </tr>\n",
       "  </thead>\n",
       "  <tbody>\n",
       "    <tr>\n",
       "      <th>0</th>\n",
       "      <td>1000</td>\n",
       "      <td>True</td>\n",
       "      <td>False</td>\n",
       "      <td>1587384000</td>\n",
       "      <td>0</td>\n",
       "      <td>0.0</td>\n",
       "      <td>0</td>\n",
       "    </tr>\n",
       "    <tr>\n",
       "      <th>1</th>\n",
       "      <td>1001</td>\n",
       "      <td>True</td>\n",
       "      <td>False</td>\n",
       "      <td>1587384000</td>\n",
       "      <td>1</td>\n",
       "      <td>0.0</td>\n",
       "      <td>1</td>\n",
       "    </tr>\n",
       "    <tr>\n",
       "      <th>2</th>\n",
       "      <td>1002</td>\n",
       "      <td>True</td>\n",
       "      <td>False</td>\n",
       "      <td>1587384000</td>\n",
       "      <td>2</td>\n",
       "      <td>0.0</td>\n",
       "      <td>2</td>\n",
       "    </tr>\n",
       "    <tr>\n",
       "      <th>3</th>\n",
       "      <td>1003</td>\n",
       "      <td>True</td>\n",
       "      <td>False</td>\n",
       "      <td>1587384000</td>\n",
       "      <td>3</td>\n",
       "      <td>0.0</td>\n",
       "      <td>3</td>\n",
       "    </tr>\n",
       "    <tr>\n",
       "      <th>4</th>\n",
       "      <td>1004</td>\n",
       "      <td>True</td>\n",
       "      <td>False</td>\n",
       "      <td>1587384000</td>\n",
       "      <td>4</td>\n",
       "      <td>1.0</td>\n",
       "      <td>0</td>\n",
       "    </tr>\n",
       "  </tbody>\n",
       "</table>\n",
       "</div>"
      ],
      "text/plain": [
       "     ID  Offboarding  Onboarding        Time  Zone  x_pos  y_pos\n",
       "0  1000         True       False  1587384000     0    0.0      0\n",
       "1  1001         True       False  1587384000     1    0.0      1\n",
       "2  1002         True       False  1587384000     2    0.0      2\n",
       "3  1003         True       False  1587384000     3    0.0      3\n",
       "4  1004         True       False  1587384000     4    1.0      0"
      ]
     },
     "execution_count": 3,
     "metadata": {},
     "output_type": "execute_result"
    }
   ],
   "source": [
    "df = pd.read_csv('test_results.csv')\n",
    "\n",
    "#print(df.to_string())\n",
    "df.head()"
   ]
  },
  {
   "cell_type": "code",
   "execution_count": 11,
   "id": "1599845a",
   "metadata": {},
   "outputs": [
    {
     "name": "stdout",
     "output_type": "stream",
     "text": [
      "trying to fetch: /storage/surfsara/ProRail_USE_LL_data/ehv/ehv_train_information_pss.parquet\n",
      "data fetched. Accessible as <this-object>.train_information\n",
      "1587384000 1587387599\n"
     ]
    },
    {
     "data": {
      "text/html": [
       "<div>\n",
       "<style scoped>\n",
       "    .dataframe tbody tr th:only-of-type {\n",
       "        vertical-align: middle;\n",
       "    }\n",
       "\n",
       "    .dataframe tbody tr th {\n",
       "        vertical-align: top;\n",
       "    }\n",
       "\n",
       "    .dataframe thead th {\n",
       "        text-align: right;\n",
       "    }\n",
       "</style>\n",
       "<table border=\"1\" class=\"dataframe\">\n",
       "  <thead>\n",
       "    <tr style=\"text-align: right;\">\n",
       "      <th></th>\n",
       "      <th>date</th>\n",
       "      <th>train_number</th>\n",
       "      <th>arrival_unix</th>\n",
       "      <th>departure_unix</th>\n",
       "      <th>train_position</th>\n",
       "    </tr>\n",
       "  </thead>\n",
       "  <tbody>\n",
       "    <tr>\n",
       "      <th>0</th>\n",
       "      <td>2022-01-01</td>\n",
       "      <td>832</td>\n",
       "      <td>1.641028e+09</td>\n",
       "      <td>1.641028e+09</td>\n",
       "      <td>top</td>\n",
       "    </tr>\n",
       "    <tr>\n",
       "      <th>1</th>\n",
       "      <td>2022-01-01</td>\n",
       "      <td>834</td>\n",
       "      <td>1.641030e+09</td>\n",
       "      <td>1.641030e+09</td>\n",
       "      <td>top</td>\n",
       "    </tr>\n",
       "    <tr>\n",
       "      <th>2</th>\n",
       "      <td>2022-01-01</td>\n",
       "      <td>836</td>\n",
       "      <td>1.641031e+09</td>\n",
       "      <td>1.641032e+09</td>\n",
       "      <td>top</td>\n",
       "    </tr>\n",
       "    <tr>\n",
       "      <th>3</th>\n",
       "      <td>2022-01-01</td>\n",
       "      <td>838</td>\n",
       "      <td>1.641033e+09</td>\n",
       "      <td>1.641033e+09</td>\n",
       "      <td>top</td>\n",
       "    </tr>\n",
       "    <tr>\n",
       "      <th>4</th>\n",
       "      <td>2022-01-01</td>\n",
       "      <td>840</td>\n",
       "      <td>1.641035e+09</td>\n",
       "      <td>1.641035e+09</td>\n",
       "      <td>top</td>\n",
       "    </tr>\n",
       "  </tbody>\n",
       "</table>\n",
       "</div>"
      ],
      "text/plain": [
       "         date  train_number  arrival_unix  departure_unix train_position\n",
       "0  2022-01-01           832  1.641028e+09    1.641028e+09            top\n",
       "1  2022-01-01           834  1.641030e+09    1.641030e+09            top\n",
       "2  2022-01-01           836  1.641031e+09    1.641032e+09            top\n",
       "3  2022-01-01           838  1.641033e+09    1.641033e+09            top\n",
       "4  2022-01-01           840  1.641035e+09    1.641035e+09            top"
      ]
     },
     "execution_count": 11,
     "metadata": {},
     "output_type": "execute_result"
    }
   ],
   "source": [
    "def to_unix_timestamp(datetime_utc):\n",
    "    return datetime_utc.timestamp()\n",
    "    return (datetime_utc - pd.Timestamp(\"1970-01-01\")) // pd.Timedelta('1s')\n",
    "\n",
    "train_data = SociophysicsDataHandler()\n",
    "train_data.fetch_prorail_train_information(station='ehv')\n",
    "train_data = train_data.train_information\n",
    "    \n",
    "train_data['arrival_unix'] = train_data['arrival_time'].apply(to_unix_timestamp)\n",
    "train_data['departure_unix'] = train_data['departure_time'].apply(to_unix_timestamp)\n",
    "#train_data.head()\n",
    "    \n",
    "train_data_no_nan = train_data.dropna()\n",
    "#limit rows to 1 row per train (individual door information deleted)\n",
    "train_data_filtered = train_data_no_nan.drop_duplicates('arrival_time')\n",
    "    \n",
    "unix_timestamp_day_start =  df.iloc[0]['Time']\n",
    "unix_timestamp_day_end =  df.iloc[-1]['Time']\n",
    "print(unix_timestamp_day_start,unix_timestamp_day_end)\n",
    "    \n",
    "#day_train_data = train_data_filtered[(train_data_filtered['arrival_unix'] > unix_timestamp_day_start) & (train_data_filtered['departure_unix'] < unix_timestamp_day_end)]\n",
    "day_train_data = train_data_filtered.reset_index(drop=True)\n",
    "    \n",
    "day_train_data = day_train_data.assign(train_position=lambda x: np.where(x['door_y'] > 2500, 'top', 'bottom'))\n",
    "day_train_data = day_train_data.drop(columns=['arrival_time', 'departure_time','door_no', 'door_x', 'door_y','station'])\n",
    "day_train_data.head()"
   ]
  },
  {
   "cell_type": "code",
   "execution_count": null,
   "id": "0e8a213e",
   "metadata": {},
   "outputs": [],
   "source": [
    "zone_height = 1000\n",
    "zone_width = 1000\n",
    "o_x = 5000\n",
    "o_y = -10000\n"
   ]
  },
  {
   "cell_type": "code",
   "execution_count": null,
   "id": "013efacc",
   "metadata": {},
   "outputs": [],
   "source": [
    "df['x_pos_approx'] = o_x + zone_width * (df['x_pos'] + 1/2) \n",
    "df['y_pos_approx'] = o_y + zone_height * (df['y_pos'] + 1/2)\n",
    "df.head()\n"
   ]
  },
  {
   "cell_type": "code",
   "execution_count": null,
   "id": "2d118062",
   "metadata": {},
   "outputs": [],
   "source": [
    "print(df['Time'][0])\n",
    "df_no_train = data_preparator_2.division_by_train_position(df)[0]\n",
    "df_no_train"
   ]
  },
  {
   "cell_type": "code",
   "execution_count": null,
   "id": "6f4edff1",
   "metadata": {},
   "outputs": [],
   "source": [
    "def percentageDangerZone(df):\n",
    "    threshold1 =  13\n",
    "    threshold2 = 0\n",
    "    df_no_train = data_preparator_2.division_by_train_position(df)[0]\n",
    "    percentage = len((df_no_train[(df_no_train['y_pos'] >= threshold1) | (df_no_train['y_pos'] <= threshold2)])) / len(df_no_train) * 100\n",
    "    return percentage"
   ]
  },
  {
   "cell_type": "code",
   "execution_count": null,
   "id": "4d6c98d8",
   "metadata": {},
   "outputs": [],
   "source": [
    "print(percentageDangerZone(df))"
   ]
  },
  {
   "cell_type": "code",
   "execution_count": null,
   "id": "29208336",
   "metadata": {
    "scrolled": false
   },
   "outputs": [],
   "source": [
    "def train_arrival_time(last_occurrence_time):\n",
    "    # returns the timestamp of the last time that arrived before the person boarded (last occurrence)\n",
    "    \n",
    "    \n",
    "def personalTime(ID):\n",
    "    df_personal = df[df['ID']==ID]\n",
    "    print(df_personal.head())\n",
    "    print(df_personal.tail())\n",
    "    if df_personal.iloc[0]['Offboarding']:\n",
    "        offboarding = True\n",
    "    if df_personal.iloc[0]['Onboarding']:\n",
    "        onboarding = True\n",
    "        \n",
    "    first_occurrence = df_personal.iloc[0]['Time']\n",
    "    last_occurrence = df_personal.iloc[-1]['Time']\n",
    "    \n",
    "    if offboarding:\n",
    "        return last_ocurrence-first_occurrence\n",
    "    \n",
    "    if onboarding:\n",
    "        start_timer = time_train_arrival - last_occurrence\n",
    "    \n",
    "    \n",
    "personalTime(1003)"
   ]
  },
  {
   "cell_type": "code",
   "execution_count": null,
   "id": "e0ede992",
   "metadata": {},
   "outputs": [],
   "source": []
  }
 ],
 "metadata": {
  "kernelspec": {
   "display_name": "Python 3",
   "language": "python",
   "name": "python3"
  },
  "language_info": {
   "codemirror_mode": {
    "name": "ipython",
    "version": 3
   },
   "file_extension": ".py",
   "mimetype": "text/x-python",
   "name": "python",
   "nbconvert_exporter": "python",
   "pygments_lexer": "ipython3",
   "version": "3.8.8"
  }
 },
 "nbformat": 4,
 "nbformat_minor": 5
}
