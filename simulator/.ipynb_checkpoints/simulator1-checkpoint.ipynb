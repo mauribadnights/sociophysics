{
 "cells": [
  {
   "cell_type": "code",
   "execution_count": 1,
   "id": "d905379e",
   "metadata": {},
   "outputs": [],
   "source": [
    "import sys\n",
    "sys.path.append(\"../\")\n",
    "from libraries.dataManipulation import *\n",
    "from libraries.gridManipulation import *\n",
    "import time\n",
    "import datetime\n",
    "import pandas as pd\n",
    "import numpy as np\n",
    "import matplotlib.pyplot as plt\n",
    "import matplotlib.patches as patches\n",
    "import math\n",
    "import random\n",
    "import warnings\n",
    "warnings.filterwarnings(action='ignore')\n",
    "import time"
   ]
  },
  {
   "cell_type": "code",
   "execution_count": 2,
   "id": "d64c99cb",
   "metadata": {},
   "outputs": [],
   "source": [
    "from sociophysicsDataHandler import SociophysicsDataHandler"
   ]
  },
  {
   "cell_type": "code",
   "execution_count": 3,
   "id": "66976844",
   "metadata": {},
   "outputs": [],
   "source": [
    "def convert_to_unixtimestamp(datetime_utc):\n",
    "    return (datetime_utc - pd.Timestamp(\"1970-01-01\")) // pd.Timedelta('1s')"
   ]
  },
  {
   "cell_type": "code",
   "execution_count": 4,
   "id": "2f61990e",
   "metadata": {},
   "outputs": [],
   "source": [
    "#Check for train\n",
    "#TODO\n",
    "def check_train(timestamp):\n",
    "    train_present = False"
   ]
  },
  {
   "cell_type": "code",
   "execution_count": 5,
   "id": "cd0bf7ec",
   "metadata": {},
   "outputs": [],
   "source": [
    "#Spawn people\n",
    "def spawn_people(timestamp):\n",
    "    global current_ID, simulation_tuple\n",
    "    if timestamp in people_in_dictionary_off:\n",
    "        spawn_zones = people_in_dictionary_off[timestamp]\n",
    "        for zone in spawn_zones:\n",
    "            offboarding_people_locs[current_ID] = zone\n",
    "            simulation_tuple.extend([[current_ID,True,False,timestamp,zone]])\n",
    "            \n",
    "            density[zone_to_coordinate(zone)] += 1/zone_area\n",
    "            current_ID += 1\n",
    "    \n",
    "    if timestamp in people_in_dictionary_on:\n",
    "        spawn_zones = people_in_dictionary_on[timestamp]\n",
    "        for zone in spawn_zones:\n",
    "            onboarding_people_locs[current_ID] = zone\n",
    "            simulation_tuple.extend([[current_ID,False,True,timestamp,zone]])\n",
    "            \n",
    "            density[zone_to_coordinate(zone)] += 1/zone_area\n",
    "            current_ID += 1"
   ]
  },
  {
   "cell_type": "code",
   "execution_count": 6,
   "id": "48f4dc15",
   "metadata": {},
   "outputs": [],
   "source": [
    "#Determine the density based on the locations of people\n",
    "#DEPRECATED\n",
    "def calculate_density():\n",
    "    locs = {**onboarding_people_locs,**offboarding_people_locs}\n",
    "    \n",
    "    density = density_0\n",
    "    \n",
    "    #Cycle through all the people in the locs dictionary\n",
    "    for i in locs.keys():\n",
    "        density[zone_to_coordinate(locs[i])] += 1/zone_area\n",
    "        \n",
    "    return density"
   ]
  },
  {
   "cell_type": "code",
   "execution_count": 140,
   "id": "56a9d63b",
   "metadata": {},
   "outputs": [],
   "source": [
    "#Convert the density matrix into a 3x3 matrix of surrounding zone densities\n",
    "#The area of 5x5 squares around the midpoint will be taken into account by averaging them into the 3x3 matrix\n",
    "#The midpoint will be a tuple of the form (zone_row,zone_column)\n",
    "def get_density_matrix(density_matrix, midpoint):\n",
    "    density_matrix_5 = np.zeros([5,5])\n",
    "\n",
    "    for i in range(5):\n",
    "        for j in range(5):\n",
    "            coords = ( min(max(midpoint[0]+i-2,0),zone_rows-1), min(max(midpoint[1]+j-2,0),zone_columns-1) )\n",
    "            density_matrix_5[i,j] = density[coords]\n",
    "    \n",
    "    density_matrix_5_3 = np.zeros([5,3])\n",
    "    \n",
    "    density_matrix_5_3[:,0] = (density_matrix_5[:,0] + density_matrix_5[:,1]) / 2\n",
    "    density_matrix_5_3[:,1] = density_matrix_5[:,2]\n",
    "    density_matrix_5_3[:,2] = (density_matrix_5[:,3] + density_matrix_5[:,4]) / 2\n",
    "    \n",
    "    density_matrix_3 = np.zeros([3,3])\n",
    "    \n",
    "    density_matrix_3[0,:] = (density_matrix_5_3[0,:] + density_matrix_5_3[1,:]) / 2\n",
    "    density_matrix_3[1,:] = density_matrix_5_3[2,:]\n",
    "    density_matrix_3[2,:] = (density_matrix_5_3[3,:] + density_matrix_5_3[4,:]) / 2\n",
    "    \n",
    "    \n",
    "    return density_matrix_3"
   ]
  },
  {
   "cell_type": "code",
   "execution_count": 25,
   "id": "ec3f9cc8",
   "metadata": {},
   "outputs": [],
   "source": [
    "#Convert zone number to coordinate in zone grid\n",
    "def zone_to_coordinate(zone_nr):\n",
    "    x_pos = math.floor(zone_nr/zone_rows)\n",
    "    y_pos = zone_nr % zone_rows\n",
    "    return (y_pos,x_pos)"
   ]
  },
  {
   "cell_type": "code",
   "execution_count": 9,
   "id": "2920aaf5",
   "metadata": {},
   "outputs": [],
   "source": [
    "#Get a new zone for a person a markov matrix and a randomly generated number\n",
    "def get_new_zone(current_zone, markov_matrix):\n",
    "\n",
    "    #Get the probabilities for the zone and apply the randomness\n",
    "    probabilities = markov_matrix.iloc[current_zone].to_numpy()\n",
    "    probabilities = adjust_probability(probabilities, density)\n",
    "    i = 0 #Iterator to keep track of which column/movement must be selected\n",
    "    if (sum(probabilities) == 0):\n",
    "        rand  = 0\n",
    "    else:\n",
    "        rand = random.random() * sum(probabilities)\n",
    "        \n",
    "    while rand > probabilities[i]:\n",
    "        rand -= probabilities[i]\n",
    "        i += 1\n",
    "\n",
    "    #Get the new zone based on the movement (column of markov matrix) that is selected\n",
    "    return i\n",
    "    "
   ]
  },
  {
   "cell_type": "code",
   "execution_count": 10,
   "id": "0466163d",
   "metadata": {},
   "outputs": [],
   "source": [
    "#Function to relate density to probability adjustment factor\n",
    "#Input is a array of densities\n",
    "def density_probability_function(density):\n",
    "    factor = 1 -( 1.15-1.15 * np.power( math.e,-2*(density/max_density) ) )\n",
    "    return factor"
   ]
  },
  {
   "cell_type": "code",
   "execution_count": 11,
   "id": "a0a9728c",
   "metadata": {},
   "outputs": [],
   "source": [
    "#Adjust the probabilities of moving between zones according to density in neighbouring zones\n",
    "#The input probabilities is an 1D array for several zones\n",
    "def adjust_probability(probabilities, density):\n",
    "    probabilities = probabilities * density_probability_function( np.array(list(density.values())) )\n",
    "    probabilities[probabilities<0] = 0\n",
    "    return probabilities"
   ]
  },
  {
   "cell_type": "code",
   "execution_count": 12,
   "id": "010bf153",
   "metadata": {},
   "outputs": [],
   "source": [
    "#Change the position of people according to the corresponding markov matrix\n",
    "def move():\n",
    "    global simulation_tuple\n",
    "    \n",
    "    #Loop through offboarders with markov matrix adjusted for density\n",
    "    markov_matrix = markov_matrix_offboarding\n",
    "    \n",
    "    for offboarder_ID, current_zone in offboarding_people_locs.items():\n",
    "        \n",
    "        new_zone = get_new_zone(current_zone, markov_matrix)\n",
    "        \n",
    "        offboarding_people_locs[offboarder_ID] = new_zone\n",
    "        simulation_tuple.extend([[offboarder_ID,True,False,time,new_zone]])\n",
    "        \n",
    "        density[zone_to_coordinate(current_zone)] -= 1/zone_area\n",
    "        density[zone_to_coordinate(new_zone)] += 1/zone_area\n",
    "    \n",
    "    #Loop through onboarders with markov matrix adjusted for density and whether there is a train\n",
    "    if train_present:\n",
    "        markov_matrix = markov_matrix_onboarding_train\n",
    "    else:\n",
    "        markov_matrix = markov_matrix_onboarding_no_train\n",
    "        \n",
    "    for onboarder_ID, current_zone in onboarding_people_locs.items():\n",
    "        \n",
    "        new_zone = get_new_zone(current_zone, markov_matrix)\n",
    "\n",
    "        onboarding_people_locs[onboarder_ID] = new_zone\n",
    "        simulation_tuple.extend([[onboarder_ID,False,True,time,new_zone]])\n",
    "        \n",
    "        density[zone_to_coordinate(current_zone)] -= 1/zone_area\n",
    "        density[zone_to_coordinate(new_zone)] += 1/zone_area\n",
    "         "
   ]
  },
  {
   "cell_type": "code",
   "execution_count": 102,
   "id": "61b98a8d",
   "metadata": {},
   "outputs": [
    {
     "ename": "AttributeError",
     "evalue": "'numpy.ndarray' object has no attribute 'values'",
     "output_type": "error",
     "traceback": [
      "\u001b[1;31m---------------------------------------------------------------------------\u001b[0m",
      "\u001b[1;31mAttributeError\u001b[0m                            Traceback (most recent call last)",
      "\u001b[1;32m<timed exec>\u001b[0m in \u001b[0;36m<module>\u001b[1;34m\u001b[0m\n",
      "\u001b[1;32m<ipython-input-12-f2c50b6d1287>\u001b[0m in \u001b[0;36mmove\u001b[1;34m()\u001b[0m\n\u001b[0;32m      8\u001b[0m     \u001b[1;32mfor\u001b[0m \u001b[0moffboarder_ID\u001b[0m\u001b[1;33m,\u001b[0m \u001b[0mcurrent_zone\u001b[0m \u001b[1;32min\u001b[0m \u001b[0moffboarding_people_locs\u001b[0m\u001b[1;33m.\u001b[0m\u001b[0mitems\u001b[0m\u001b[1;33m(\u001b[0m\u001b[1;33m)\u001b[0m\u001b[1;33m:\u001b[0m\u001b[1;33m\u001b[0m\u001b[1;33m\u001b[0m\u001b[0m\n\u001b[0;32m      9\u001b[0m \u001b[1;33m\u001b[0m\u001b[0m\n\u001b[1;32m---> 10\u001b[1;33m         \u001b[0mnew_zone\u001b[0m \u001b[1;33m=\u001b[0m \u001b[0mget_new_zone\u001b[0m\u001b[1;33m(\u001b[0m\u001b[0mcurrent_zone\u001b[0m\u001b[1;33m,\u001b[0m \u001b[0mmarkov_matrix\u001b[0m\u001b[1;33m)\u001b[0m\u001b[1;33m\u001b[0m\u001b[1;33m\u001b[0m\u001b[0m\n\u001b[0m\u001b[0;32m     11\u001b[0m \u001b[1;33m\u001b[0m\u001b[0m\n\u001b[0;32m     12\u001b[0m         \u001b[0moffboarding_people_locs\u001b[0m\u001b[1;33m[\u001b[0m\u001b[0moffboarder_ID\u001b[0m\u001b[1;33m]\u001b[0m \u001b[1;33m=\u001b[0m \u001b[0mnew_zone\u001b[0m\u001b[1;33m\u001b[0m\u001b[1;33m\u001b[0m\u001b[0m\n",
      "\u001b[1;32m<ipython-input-9-75aa40d20785>\u001b[0m in \u001b[0;36mget_new_zone\u001b[1;34m(current_zone, markov_matrix)\u001b[0m\n\u001b[0;32m      4\u001b[0m     \u001b[1;31m#Get the probabilities for the zone and apply the randomness\u001b[0m\u001b[1;33m\u001b[0m\u001b[1;33m\u001b[0m\u001b[1;33m\u001b[0m\u001b[0m\n\u001b[0;32m      5\u001b[0m     \u001b[0mprobabilities\u001b[0m \u001b[1;33m=\u001b[0m \u001b[0mmarkov_matrix\u001b[0m\u001b[1;33m.\u001b[0m\u001b[0miloc\u001b[0m\u001b[1;33m[\u001b[0m\u001b[0mcurrent_zone\u001b[0m\u001b[1;33m]\u001b[0m\u001b[1;33m.\u001b[0m\u001b[0mto_numpy\u001b[0m\u001b[1;33m(\u001b[0m\u001b[1;33m)\u001b[0m\u001b[1;33m\u001b[0m\u001b[1;33m\u001b[0m\u001b[0m\n\u001b[1;32m----> 6\u001b[1;33m     \u001b[0mprobabilities\u001b[0m \u001b[1;33m=\u001b[0m \u001b[0madjust_probability\u001b[0m\u001b[1;33m(\u001b[0m\u001b[0mprobabilities\u001b[0m\u001b[1;33m,\u001b[0m \u001b[0mdensity\u001b[0m\u001b[1;33m)\u001b[0m\u001b[1;33m\u001b[0m\u001b[1;33m\u001b[0m\u001b[0m\n\u001b[0m\u001b[0;32m      7\u001b[0m     \u001b[0mi\u001b[0m \u001b[1;33m=\u001b[0m \u001b[1;36m0\u001b[0m \u001b[1;31m#Iterator to keep track of which column/movement must be selected\u001b[0m\u001b[1;33m\u001b[0m\u001b[1;33m\u001b[0m\u001b[0m\n\u001b[0;32m      8\u001b[0m     \u001b[1;32mif\u001b[0m \u001b[1;33m(\u001b[0m\u001b[0msum\u001b[0m\u001b[1;33m(\u001b[0m\u001b[0mprobabilities\u001b[0m\u001b[1;33m)\u001b[0m \u001b[1;33m==\u001b[0m \u001b[1;36m0\u001b[0m\u001b[1;33m)\u001b[0m\u001b[1;33m:\u001b[0m\u001b[1;33m\u001b[0m\u001b[1;33m\u001b[0m\u001b[0m\n",
      "\u001b[1;32m<ipython-input-11-45483d236872>\u001b[0m in \u001b[0;36madjust_probability\u001b[1;34m(probabilities, density)\u001b[0m\n\u001b[0;32m      2\u001b[0m \u001b[1;31m#The input probabilities is an 1D array for several zones\u001b[0m\u001b[1;33m\u001b[0m\u001b[1;33m\u001b[0m\u001b[1;33m\u001b[0m\u001b[0m\n\u001b[0;32m      3\u001b[0m \u001b[1;32mdef\u001b[0m \u001b[0madjust_probability\u001b[0m\u001b[1;33m(\u001b[0m\u001b[0mprobabilities\u001b[0m\u001b[1;33m,\u001b[0m \u001b[0mdensity\u001b[0m\u001b[1;33m)\u001b[0m\u001b[1;33m:\u001b[0m\u001b[1;33m\u001b[0m\u001b[1;33m\u001b[0m\u001b[0m\n\u001b[1;32m----> 4\u001b[1;33m     \u001b[0mprobabilities\u001b[0m \u001b[1;33m=\u001b[0m \u001b[0mprobabilities\u001b[0m \u001b[1;33m*\u001b[0m \u001b[0mdensity_probability_function\u001b[0m\u001b[1;33m(\u001b[0m \u001b[0mnp\u001b[0m\u001b[1;33m.\u001b[0m\u001b[0marray\u001b[0m\u001b[1;33m(\u001b[0m\u001b[0mlist\u001b[0m\u001b[1;33m(\u001b[0m\u001b[0mdensity\u001b[0m\u001b[1;33m.\u001b[0m\u001b[0mvalues\u001b[0m\u001b[1;33m(\u001b[0m\u001b[1;33m)\u001b[0m\u001b[1;33m)\u001b[0m\u001b[1;33m)\u001b[0m \u001b[1;33m)\u001b[0m\u001b[1;33m\u001b[0m\u001b[1;33m\u001b[0m\u001b[0m\n\u001b[0m\u001b[0;32m      5\u001b[0m     \u001b[0mprobabilities\u001b[0m\u001b[1;33m[\u001b[0m\u001b[0mprobabilities\u001b[0m\u001b[1;33m<\u001b[0m\u001b[1;36m0\u001b[0m\u001b[1;33m]\u001b[0m \u001b[1;33m=\u001b[0m \u001b[1;36m0\u001b[0m\u001b[1;33m\u001b[0m\u001b[1;33m\u001b[0m\u001b[0m\n\u001b[0;32m      6\u001b[0m     \u001b[1;32mreturn\u001b[0m \u001b[0mprobabilities\u001b[0m\u001b[1;33m\u001b[0m\u001b[1;33m\u001b[0m\u001b[0m\n",
      "\u001b[1;31mAttributeError\u001b[0m: 'numpy.ndarray' object has no attribute 'values'"
     ]
    }
   ],
   "source": [
    "%%time\n",
    "\n",
    "#Initialize variables\n",
    "start_date_time = pd.to_datetime('2020-04-20T12:00:00') #Starting time of simulation\n",
    "time = convert_to_unixtimestamp(start_date_time)\n",
    "sim_duration = 100 #How long the simulation lasts in seconds\n",
    "\n",
    "train_present = False\n",
    "\n",
    "#Number of zones\n",
    "zone_rows = 4\n",
    "zone_columns = 18\n",
    "n_zones = zone_rows * zone_columns\n",
    "void_zones = 0 #Number of zones that people can disappear to\n",
    "\n",
    "#Variables that have to be determined in different steps\n",
    "markov_matrix_offboarding = pd.read_csv('test_markov_matrix.csv', header=None)\n",
    "markov_matrix_onboarding_no_train =  pd.read_csv('test_markov_matrix.csv', header=None)\n",
    "markov_matrix_onboarding_train =  pd.read_csv('test_markov_matrix.csv',header=None)\n",
    "density_influence_table = None\n",
    "people_in_dictionary_off = {time:range(60)} #[50,51,52,53,54,55]}\n",
    "people_in_dictionary_on = {time:range(60)} #[1,2,3,4,5,6]}\n",
    "\n",
    "#Information about people\n",
    "current_ID = 1000 #People will also have an ID in the simulation, only a different one\n",
    "offboarding_people_locs = {} #Dictionary with person IDs as keys and zone IDs as values\n",
    "onboarding_people_locs = {} #Dictionary with person IDs as keys and zone IDs as values\n",
    "\n",
    "#Density information\n",
    "max_density = 4 #TODO\n",
    "zone_area = 2 #TODO\n",
    "#Set all densities to 0\n",
    "density_0 = np.zeros([zone_rows,zone_columns])\n",
    "density = density_0 #Dictionary with zone IDs as keys and density as values\n",
    "\n",
    "#Create dataframe to store the data over time\n",
    "simulation_tuple = ([[0,False,False,0,0]])\n",
    "\n",
    "# SIMULATE \n",
    "\n",
    "#Start looping\n",
    "for i in range(sim_duration):\n",
    "    \n",
    "    check_train(time)\n",
    "    \n",
    "    move()\n",
    "    \n",
    "    spawn_people(time)\n",
    "    \n",
    "    time += 1\n",
    "\n",
    "simulation_df = pd.DataFrame(list(simulation_tuple), columns = ['ID','Offboarding','Onboarding','Time','Zone'])\n",
    "simulation_df = simulation_df.drop(0)\n",
    "simulation_df['x_pos'] = simulation_df['Zone'].divide(zone_rows).apply(np.floor)\n",
    "simulation_df['y_pos'] = (simulation_df['Zone']).mod(zone_rows)\n",
    "simulation_df.head()"
   ]
  },
  {
   "cell_type": "code",
   "execution_count": 14,
   "id": "6fd37bb8",
   "metadata": {},
   "outputs": [
    {
     "ename": "NameError",
     "evalue": "name 'simulation_df' is not defined",
     "output_type": "error",
     "traceback": [
      "\u001b[1;31m---------------------------------------------------------------------------\u001b[0m",
      "\u001b[1;31mNameError\u001b[0m                                 Traceback (most recent call last)",
      "\u001b[1;32m<ipython-input-14-5df1db159f16>\u001b[0m in \u001b[0;36m<module>\u001b[1;34m\u001b[0m\n\u001b[1;32m----> 1\u001b[1;33m \u001b[0max\u001b[0m \u001b[1;33m=\u001b[0m \u001b[0msimulation_df\u001b[0m\u001b[1;33m.\u001b[0m\u001b[0mgroupby\u001b[0m\u001b[1;33m(\u001b[0m\u001b[1;34m'ID'\u001b[0m\u001b[1;33m)\u001b[0m\u001b[1;33m.\u001b[0m\u001b[0mplot\u001b[0m\u001b[1;33m(\u001b[0m\u001b[1;34m'x_pos'\u001b[0m\u001b[1;33m,\u001b[0m\u001b[1;34m'y_pos'\u001b[0m\u001b[1;33m,\u001b[0m \u001b[0mxlim\u001b[0m \u001b[1;33m=\u001b[0m \u001b[1;33m[\u001b[0m\u001b[1;33m-\u001b[0m\u001b[1;36m1\u001b[0m\u001b[1;33m,\u001b[0m \u001b[1;36m20\u001b[0m\u001b[1;33m]\u001b[0m\u001b[1;33m,\u001b[0m \u001b[0mylim\u001b[0m \u001b[1;33m=\u001b[0m \u001b[1;33m[\u001b[0m\u001b[1;33m-\u001b[0m\u001b[1;36m1\u001b[0m\u001b[1;33m,\u001b[0m\u001b[1;36m4\u001b[0m\u001b[1;33m]\u001b[0m\u001b[1;33m)\u001b[0m\u001b[1;33m;\u001b[0m\u001b[1;33m\u001b[0m\u001b[1;33m\u001b[0m\u001b[0m\n\u001b[0m",
      "\u001b[1;31mNameError\u001b[0m: name 'simulation_df' is not defined"
     ]
    }
   ],
   "source": [
    "ax = simulation_df.groupby('ID').plot('x_pos','y_pos', xlim = [-1, 20], ylim = [-1,4]);"
   ]
  },
  {
   "cell_type": "code",
   "execution_count": null,
   "id": "4dd51192",
   "metadata": {},
   "outputs": [],
   "source": [
    "density_probability_function(np.array([0,1,2,3,4]))"
   ]
  },
  {
   "cell_type": "code",
   "execution_count": 103,
   "id": "c00938a0",
   "metadata": {
    "scrolled": true
   },
   "outputs": [
    {
     "data": {
      "text/plain": [
       "array([[1., 1., 1., 1., 1., 1., 1., 1., 1., 1., 1., 1., 1., 1., 1., 0.,\n",
       "        0., 0.],\n",
       "       [1., 1., 1., 1., 1., 1., 1., 1., 1., 1., 1., 1., 1., 1., 1., 0.,\n",
       "        0., 0.],\n",
       "       [1., 1., 1., 1., 1., 1., 1., 1., 1., 1., 1., 1., 1., 1., 1., 0.,\n",
       "        0., 0.],\n",
       "       [1., 1., 1., 1., 1., 1., 1., 1., 1., 1., 1., 1., 1., 1., 1., 0.,\n",
       "        0., 0.]])"
      ]
     },
     "execution_count": 103,
     "metadata": {},
     "output_type": "execute_result"
    }
   ],
   "source": [
    "density"
   ]
  },
  {
   "cell_type": "code",
   "execution_count": 139,
   "id": "7e9362c3",
   "metadata": {},
   "outputs": [
    {
     "name": "stdout",
     "output_type": "stream",
     "text": [
      "Wall time: 21.2 s\n"
     ]
    }
   ],
   "source": [
    "midpoint = (3,14)\n",
    "\n",
    "density_5 = get_density_matrix(density,midpoint)\n",
    "density_5"
   ]
  }
 ],
 "metadata": {
  "kernelspec": {
   "display_name": "Python 3",
   "language": "python",
   "name": "python3"
  },
  "language_info": {
   "codemirror_mode": {
    "name": "ipython",
    "version": 3
   },
   "file_extension": ".py",
   "mimetype": "text/x-python",
   "name": "python",
   "nbconvert_exporter": "python",
   "pygments_lexer": "ipython3",
   "version": "3.8.8"
  }
 },
 "nbformat": 4,
 "nbformat_minor": 5
}
