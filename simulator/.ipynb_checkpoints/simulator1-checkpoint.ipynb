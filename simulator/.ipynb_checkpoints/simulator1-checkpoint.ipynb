{
 "cells": [
  {
   "cell_type": "code",
   "execution_count": 1,
   "id": "d905379e",
   "metadata": {},
   "outputs": [],
   "source": [
    "import sys\n",
    "sys.path.append(\"../\")\n",
    "from libraries.dataManipulation import *\n",
    "from libraries.gridManipulation import *\n",
    "import time\n",
    "import datetime\n",
    "import pandas as pd\n",
    "import numpy as np\n",
    "import matplotlib.pyplot as plt\n",
    "import matplotlib.patches as patches\n",
    "%matplotlib qt\n",
    "import math\n",
    "import random\n",
    "import warnings\n",
    "warnings.filterwarnings(action='ignore')"
   ]
  },
  {
   "cell_type": "code",
   "execution_count": 2,
   "id": "d64c99cb",
   "metadata": {},
   "outputs": [],
   "source": [
    "from sociophysicsDataHandler import SociophysicsDataHandler"
   ]
  },
  {
   "cell_type": "code",
   "execution_count": 3,
   "id": "66976844",
   "metadata": {},
   "outputs": [],
   "source": [
    "def convert_to_unixtimestamp(datetime_utc):\n",
    "    return (datetime_utc - pd.Timestamp(\"1970-01-01\")) // pd.Timedelta('1s')"
   ]
  },
  {
   "cell_type": "code",
   "execution_count": 4,
   "id": "7c970dc4",
   "metadata": {},
   "outputs": [],
   "source": [
    "#Initialize variables\n",
    "time = pd.Timestamp('2020-04-20T12:00:00') #Starting time of simulation\n",
    "train_present = False\n",
    "\n",
    "#Number of zones\n",
    "zone_rows = 4\n",
    "zone_columns = 18\n",
    "n_zones = zone_rows * zone_columns\n",
    "\n",
    "#Information about people\n",
    "current_ID = 1000 #People will also have an ID in the simulation, only a different one\n",
    "offboarding_people_locs = {} #Dictionary with person IDs as keys and zone IDs as values\n",
    "onboarding_people_locs = {} #Dictionary with person IDs as keys and zone IDs as values\n",
    "density = {} #Dictionary with zone IDs as keys and density as values\n",
    "#Set all densities to 0\n",
    "for i in range(n_zones):\n",
    "    density[i] = 0\n",
    "\n",
    "#Variables that have to be determined in different steps\n",
    "markov_matrix_offboarding = None\n",
    "markov_matrix_onboarding_no_train = None\n",
    "markov_matrix_onboarding_train = None\n",
    "density_influence_table = None\n",
    "people_in_dictionary_off = {time:[1]}\n",
    "people_in_dictionary_on = {time:[2]}"
   ]
  },
  {
   "cell_type": "code",
   "execution_count": 5,
   "id": "2f61990e",
   "metadata": {},
   "outputs": [],
   "source": [
    "#Check for train\n",
    "#TODO\n",
    "def check_train(timestamp):\n",
    "    return False"
   ]
  },
  {
   "cell_type": "code",
   "execution_count": 6,
   "id": "cd0bf7ec",
   "metadata": {},
   "outputs": [],
   "source": [
    "#Spawn people\n",
    "def spawn_people(timestamp):\n",
    "    global current_ID\n",
    "    if timestamp in people_in_dictionary_off:\n",
    "        spawn_zones = people_in_dictionary_off[timestamp]\n",
    "        for zone in spawn_zones:\n",
    "            offboarding_people_locs[current_ID] = zone\n",
    "            current_ID += 1\n",
    "    \n",
    "    if timestamp in people_in_dictionary_on:\n",
    "        spawn_zones = people_in_dictionary_on[timestamp]\n",
    "        for zone in spawn_zones:\n",
    "            onboarding_people_locs[current_ID] = zone\n",
    "            current_ID += 1"
   ]
  },
  {
   "cell_type": "code",
   "execution_count": 7,
   "id": "2920aaf5",
   "metadata": {},
   "outputs": [],
   "source": [
    "#Get a new zone for a person using the right markov matrix using a randomly generated number\n",
    "def get_new_zone(rand, current_zone, status):\n",
    "    \n",
    "    if status == 'off':\n",
    "        markov_matrix = markov_matrix_offboarding\n",
    "    elif status == 'onb_train':\n",
    "        markov_matrix = markov_matrix_onboarding_train\n",
    "    else:\n",
    "        markov_matrix = markov_matrix_onboarding_no_train\n",
    "    \n",
    "    #Get the probabilities for the zone and apply the randomness\n",
    "    probabilities = markov_matrix.iloc[current_zone].to_numpy()\n",
    "    i = 0 #Iterator to keep track of which column/movement must be selected\n",
    "    while rand > probabilities[i]:\n",
    "        rand -= probabilities[i]\n",
    "        i += 1\n",
    "    \n",
    "    #Get the new zone based on the movement (column of markov matrix) that is selected\n",
    "    if i == 0: return current_zone\n",
    "    if i == 1: return current_zone - zone_rows - 1\n",
    "    if i == 2: return current_zone - zone_rows\n",
    "    if i == 3: return current_zone - zone_rows + 1\n",
    "    if i == 4: return current_zone - 1\n",
    "    if i == 5: return current_zone + 1\n",
    "    if i == 6: return current_zone + zone_rows - 1\n",
    "    if i == 7: return current_zone + zone_rows\n",
    "    if i == 8: return current_zone + zone_rows + 1\n",
    "    if i == 9: return -1\n",
    "    else: return -1\n",
    "    "
   ]
  },
  {
   "cell_type": "code",
   "execution_count": 8,
   "id": "010bf153",
   "metadata": {},
   "outputs": [],
   "source": [
    "#Change the position of people according to the corresponding markov matrix using a randomly generated number\n",
    "def move(rand):\n",
    "   \n",
    "    #Loop through offboarders\n",
    "    for offboarder_ID in offboarding_people_locs.keys():\n",
    "        current_zone = offboarding_people_locs[offboarder_ID]\n",
    "        new_zone = get_new_zone(rand, current_zone, 'off')\n",
    "        offboarding_people_locs[offboarder_ID] = new_zone\n",
    "    \n",
    "    #Loop through onboarders\n",
    "    if trainpresent:\n",
    "        status = 'onb_train'\n",
    "    else:\n",
    "        status = 'onb_no_train'\n",
    "    \n",
    "    for onboarder_ID in onboarding_people_locs.keys():\n",
    "        current_zone = onboarding_people_locs[onboarder_ID]\n",
    "        new_zone = get_new_zone(rand, current_zone, status)\n",
    "        onboarding_people_locs[onboarder_ID] = new_zone\n",
    "            \n",
    "        "
   ]
  }
 ],
 "metadata": {
  "kernelspec": {
   "display_name": "Python 3",
   "language": "python",
   "name": "python3"
  },
  "language_info": {
   "codemirror_mode": {
    "name": "ipython",
    "version": 3
   },
   "file_extension": ".py",
   "mimetype": "text/x-python",
   "name": "python",
   "nbconvert_exporter": "python",
   "pygments_lexer": "ipython3",
   "version": "3.8.8"
  }
 },
 "nbformat": 4,
 "nbformat_minor": 5
}
