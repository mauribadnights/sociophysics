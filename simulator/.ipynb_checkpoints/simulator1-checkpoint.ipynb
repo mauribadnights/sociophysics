{
 "cells": [
  {
   "cell_type": "code",
   "execution_count": 1,
   "id": "d905379e",
   "metadata": {},
   "outputs": [],
   "source": [
    "import sys\n",
    "sys.path.append(\"../\")\n",
    "from libraries.dataManipulation import *\n",
    "from libraries.gridManipulation import *\n",
    "import time\n",
    "import datetime\n",
    "import pandas as pd\n",
    "import numpy as np\n",
    "import matplotlib.pyplot as plt\n",
    "import matplotlib.patches as patches\n",
    "%matplotlib qt\n",
    "import math\n",
    "import random\n",
    "import warnings\n",
    "warnings.filterwarnings(action='ignore')"
   ]
  },
  {
   "cell_type": "code",
   "execution_count": 2,
   "id": "d64c99cb",
   "metadata": {},
   "outputs": [],
   "source": [
    "from sociophysicsDataHandler import SociophysicsDataHandler"
   ]
  },
  {
   "cell_type": "code",
   "execution_count": 3,
   "id": "66976844",
   "metadata": {},
   "outputs": [],
   "source": [
    "def convert_to_unixtimestamp(datetime_utc):\n",
    "    return (datetime_utc - pd.Timestamp(\"1970-01-01\")) // pd.Timedelta('1s')"
   ]
  },
  {
   "cell_type": "code",
   "execution_count": 4,
   "id": "7c970dc4",
   "metadata": {},
   "outputs": [],
   "source": [
    "#Initialize variables\n",
    "time = pd.Timestamp('2020-04-20T12:00:00') #Starting time of simulation\n",
    "sim_duration = 100 #How long the simulation lasts in seconds\n",
    "\n",
    "train_present = False\n",
    "\n",
    "#Number of zones\n",
    "zone_rows = 4\n",
    "zone_columns = 18\n",
    "n_zones = zone_rows * zone_columns\n",
    "\n",
    "#Information about people\n",
    "current_ID = 1000 #People will also have an ID in the simulation, only a different one\n",
    "offboarding_people_locs = {} #Dictionary with person IDs as keys and zone IDs as values\n",
    "onboarding_people_locs = {} #Dictionary with person IDs as keys and zone IDs as values\n",
    "density = {} #Dictionary with zone IDs as keys and density as values\n",
    "#Set all densities to 0\n",
    "for i in range(n_zones):\n",
    "    density[i] = 0\n",
    "\n",
    "#Variables that have to be determined in different steps\n",
    "markov_matrix_offboarding = None\n",
    "markov_matrix_onboarding_no_train = None\n",
    "markov_matrix_onboarding_train = None\n",
    "density_influence_table = None\n",
    "people_in_dictionary_off = {time:[1]}\n",
    "people_in_dictionary_on = {time:[2]}"
   ]
  },
  {
   "cell_type": "code",
   "execution_count": 5,
   "id": "2f61990e",
   "metadata": {},
   "outputs": [],
   "source": [
    "#Check for train\n",
    "#TODO\n",
    "def check_train(timestamp):\n",
    "    train_present = False"
   ]
  },
  {
   "cell_type": "code",
   "execution_count": 6,
   "id": "cd0bf7ec",
   "metadata": {},
   "outputs": [],
   "source": [
    "#Spawn people\n",
    "def spawn_people(timestamp):\n",
    "    global current_ID\n",
    "    if timestamp in people_in_dictionary_off:\n",
    "        spawn_zones = people_in_dictionary_off[timestamp]\n",
    "        for zone in spawn_zones:\n",
    "            offboarding_people_locs[current_ID] = zone\n",
    "            current_ID += 1\n",
    "    \n",
    "    if timestamp in people_in_dictionary_on:\n",
    "        spawn_zones = people_in_dictionary_on[timestamp]\n",
    "        for zone in spawn_zones:\n",
    "            onboarding_people_locs[current_ID] = zone\n",
    "            current_ID += 1"
   ]
  },
  {
   "cell_type": "code",
   "execution_count": 7,
   "id": "52c87b65",
   "metadata": {},
   "outputs": [],
   "source": [
    "#Determine the density based on the locations of people\n",
    "def calculate_density():\n",
    "    locs = {**onboarding_people_locs,**offboarding_people_locs}\n",
    "    \n",
    "    #Create empty density dictionary\n",
    "    density = {} #Dictionary with zone IDs as keys and density as values\n",
    "    #Set all densities to 0\n",
    "    for i in range(n_zones):\n",
    "        density[i] = 0\n",
    "    \n",
    "    #Cycle through all the people in the locs dictionary\n",
    "    for i in locs.keys():\n",
    "        density[locs[i]] += 1\n",
    "        \n",
    "    return density"
   ]
  },
  {
   "cell_type": "code",
   "execution_count": 8,
   "id": "2920aaf5",
   "metadata": {},
   "outputs": [],
   "source": [
    "#Get a new zone for a person a markov matrix and a randomly generated number\n",
    "def get_new_zone(rand, current_zone, markov_matrix):\n",
    "    \n",
    "    #Get the probabilities for the zone and apply the randomness\n",
    "    probabilities = markov_matrix.iloc[current_zone].to_numpy()\n",
    "    i = 0 #Iterator to keep track of which column/movement must be selected\n",
    "    while rand > probabilities[i]:\n",
    "        rand -= probabilities[i]\n",
    "        i += 1\n",
    "    \n",
    "    #Get the new zone based on the movement (column of markov matrix) that is selected\n",
    "    if i == 0: return current_zone\n",
    "    if i == 1: return current_zone - zone_rows - 1\n",
    "    if i == 2: return current_zone - zone_rows\n",
    "    if i == 3: return current_zone - zone_rows + 1\n",
    "    if i == 4: return current_zone - 1\n",
    "    if i == 5: return current_zone + 1\n",
    "    if i == 6: return current_zone + zone_rows - 1\n",
    "    if i == 7: return current_zone + zone_rows\n",
    "    if i == 8: return current_zone + zone_rows + 1\n",
    "    if i == 9: return -1\n",
    "    else: return -1\n",
    "    "
   ]
  },
  {
   "cell_type": "code",
   "execution_count": 9,
   "id": "19f08522",
   "metadata": {},
   "outputs": [],
   "source": [
    "#Adjust the probabilities of moving between zones according to density in neighbouring zones\n",
    "#TODO\n",
    "def adjust_markov_matrix(matrix, density):\n",
    "    return matrix"
   ]
  },
  {
   "cell_type": "code",
   "execution_count": 10,
   "id": "010bf153",
   "metadata": {},
   "outputs": [],
   "source": [
    "#Change the position of people according to the corresponding markov matrix\n",
    "def move():\n",
    "    rand = random.random()\n",
    "\n",
    "    #Loop through offboarders with markov matrix adjusted for density\n",
    "    markov_matrix = adjust_markov_matrix(markov_matrix_offboarding, density)\n",
    "    \n",
    "    for offboarder_ID in offboarding_people_locs.keys():\n",
    "        \n",
    "        current_zone = offboarding_people_locs[offboarder_ID]\n",
    "        \n",
    "        new_zone = get_new_zone(rand, current_zone, markov_matrix)\n",
    "        \n",
    "        offboarding_people_locs[offboarder_ID] = new_zone\n",
    "    \n",
    "    #Loop through onboarders with markov matrix adjusted for density and whether there is a train\n",
    "    if trainpresent:\n",
    "        markov_matrix = adjust_markov_matrix(markov_matrix_onboarding_train, density)\n",
    "    else:\n",
    "        markov_matrix = adjust_markov_matrix(markov_matrix_onboarding_no_train, density)\n",
    "        \n",
    "    for onboarder_ID in onboarding_people_locs.keys():\n",
    "        \n",
    "        current_zone = onboarding_people_locs[onboarder_ID]\n",
    "        \n",
    "        new_zone = get_new_zone(rand, current_zone, markov_matrix)\n",
    "\n",
    "        onboarding_people_locs[onboarder_ID] = new_zone\n",
    "            "
   ]
  },
  {
   "cell_type": "code",
   "execution_count": 11,
   "id": "1b128338",
   "metadata": {},
   "outputs": [
    {
     "ename": "AttributeError",
     "evalue": "'NoneType' object has no attribute 'iloc'",
     "output_type": "error",
     "traceback": [
      "\u001b[1;31m---------------------------------------------------------------------------\u001b[0m",
      "\u001b[1;31mAttributeError\u001b[0m                            Traceback (most recent call last)",
      "\u001b[1;32m<ipython-input-11-69799ce77483>\u001b[0m in \u001b[0;36m<module>\u001b[1;34m\u001b[0m\n\u001b[0;32m      7\u001b[0m     \u001b[0mcheck_train\u001b[0m\u001b[1;33m(\u001b[0m\u001b[0mtime\u001b[0m\u001b[1;33m)\u001b[0m\u001b[1;33m\u001b[0m\u001b[1;33m\u001b[0m\u001b[0m\n\u001b[0;32m      8\u001b[0m \u001b[1;33m\u001b[0m\u001b[0m\n\u001b[1;32m----> 9\u001b[1;33m     \u001b[0mmove\u001b[0m\u001b[1;33m(\u001b[0m\u001b[1;33m)\u001b[0m\u001b[1;33m\u001b[0m\u001b[1;33m\u001b[0m\u001b[0m\n\u001b[0m\u001b[0;32m     10\u001b[0m \u001b[1;33m\u001b[0m\u001b[0m\n\u001b[0;32m     11\u001b[0m     \u001b[0mdensity\u001b[0m \u001b[1;33m=\u001b[0m \u001b[0mcalculate_density\u001b[0m\u001b[1;33m(\u001b[0m\u001b[1;33m)\u001b[0m\u001b[1;33m\u001b[0m\u001b[1;33m\u001b[0m\u001b[0m\n",
      "\u001b[1;32m<ipython-input-10-4a2458162480>\u001b[0m in \u001b[0;36mmove\u001b[1;34m()\u001b[0m\n\u001b[0;32m     10\u001b[0m         \u001b[0mcurrent_zone\u001b[0m \u001b[1;33m=\u001b[0m \u001b[0moffboarding_people_locs\u001b[0m\u001b[1;33m[\u001b[0m\u001b[0moffboarder_ID\u001b[0m\u001b[1;33m]\u001b[0m\u001b[1;33m\u001b[0m\u001b[1;33m\u001b[0m\u001b[0m\n\u001b[0;32m     11\u001b[0m \u001b[1;33m\u001b[0m\u001b[0m\n\u001b[1;32m---> 12\u001b[1;33m         \u001b[0mnew_zone\u001b[0m \u001b[1;33m=\u001b[0m \u001b[0mget_new_zone\u001b[0m\u001b[1;33m(\u001b[0m\u001b[0mrand\u001b[0m\u001b[1;33m,\u001b[0m \u001b[0mcurrent_zone\u001b[0m\u001b[1;33m,\u001b[0m \u001b[0mmarkov_matrix\u001b[0m\u001b[1;33m)\u001b[0m\u001b[1;33m\u001b[0m\u001b[1;33m\u001b[0m\u001b[0m\n\u001b[0m\u001b[0;32m     13\u001b[0m \u001b[1;33m\u001b[0m\u001b[0m\n\u001b[0;32m     14\u001b[0m         \u001b[0moffboarding_people_locs\u001b[0m\u001b[1;33m[\u001b[0m\u001b[0moffboarder_ID\u001b[0m\u001b[1;33m]\u001b[0m \u001b[1;33m=\u001b[0m \u001b[0mnew_zone\u001b[0m\u001b[1;33m\u001b[0m\u001b[1;33m\u001b[0m\u001b[0m\n",
      "\u001b[1;32m<ipython-input-8-1b9329438e01>\u001b[0m in \u001b[0;36mget_new_zone\u001b[1;34m(rand, current_zone, markov_matrix)\u001b[0m\n\u001b[0;32m      3\u001b[0m \u001b[1;33m\u001b[0m\u001b[0m\n\u001b[0;32m      4\u001b[0m     \u001b[1;31m#Get the probabilities for the zone and apply the randomness\u001b[0m\u001b[1;33m\u001b[0m\u001b[1;33m\u001b[0m\u001b[1;33m\u001b[0m\u001b[0m\n\u001b[1;32m----> 5\u001b[1;33m     \u001b[0mprobabilities\u001b[0m \u001b[1;33m=\u001b[0m \u001b[0mmarkov_matrix\u001b[0m\u001b[1;33m.\u001b[0m\u001b[0miloc\u001b[0m\u001b[1;33m[\u001b[0m\u001b[0mcurrent_zone\u001b[0m\u001b[1;33m]\u001b[0m\u001b[1;33m.\u001b[0m\u001b[0mto_numpy\u001b[0m\u001b[1;33m(\u001b[0m\u001b[1;33m)\u001b[0m\u001b[1;33m\u001b[0m\u001b[1;33m\u001b[0m\u001b[0m\n\u001b[0m\u001b[0;32m      6\u001b[0m     \u001b[0mi\u001b[0m \u001b[1;33m=\u001b[0m \u001b[1;36m0\u001b[0m \u001b[1;31m#Iterator to keep track of which column/movement must be selected\u001b[0m\u001b[1;33m\u001b[0m\u001b[1;33m\u001b[0m\u001b[0m\n\u001b[0;32m      7\u001b[0m     \u001b[1;32mwhile\u001b[0m \u001b[0mrand\u001b[0m \u001b[1;33m>\u001b[0m \u001b[0mprobabilities\u001b[0m\u001b[1;33m[\u001b[0m\u001b[0mi\u001b[0m\u001b[1;33m]\u001b[0m\u001b[1;33m:\u001b[0m\u001b[1;33m\u001b[0m\u001b[1;33m\u001b[0m\u001b[0m\n",
      "\u001b[1;31mAttributeError\u001b[0m: 'NoneType' object has no attribute 'iloc'"
     ]
    }
   ],
   "source": [
    "# SIMULATE\n",
    "\n",
    "for i in range(sim_duration):\n",
    "    \n",
    "    spawn_people(time)\n",
    "    \n",
    "    check_train(time)\n",
    "    \n",
    "    move()\n",
    "    \n",
    "    density = calculate_density()\n",
    "    \n",
    "    time += 1\n",
    "    "
   ]
  }
 ],
 "metadata": {
  "kernelspec": {
   "display_name": "Python 3",
   "language": "python",
   "name": "python3"
  },
  "language_info": {
   "codemirror_mode": {
    "name": "ipython",
    "version": 3
   },
   "file_extension": ".py",
   "mimetype": "text/x-python",
   "name": "python",
   "nbconvert_exporter": "python",
   "pygments_lexer": "ipython3",
   "version": "3.8.8"
  }
 },
 "nbformat": 4,
 "nbformat_minor": 5
}
