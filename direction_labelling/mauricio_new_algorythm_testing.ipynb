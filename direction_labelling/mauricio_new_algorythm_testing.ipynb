{
 "cells": [
  {
   "cell_type": "code",
   "execution_count": 1,
   "id": "f5ecfb97",
   "metadata": {},
   "outputs": [],
   "source": [
    "import sys\n",
    "sys.path.append(\"../\")"
   ]
  },
  {
   "cell_type": "code",
   "execution_count": 2,
   "id": "329cc798",
   "metadata": {},
   "outputs": [],
   "source": [
    "from libraries.dataManipulation import *\n",
    "from libraries.gridManipulation import *\n",
    "import time\n",
    "import datetime\n",
    "import pandas as pd\n",
    "import numpy as np"
   ]
  },
  {
   "cell_type": "code",
   "execution_count": 3,
   "id": "9094cefc",
   "metadata": {},
   "outputs": [
    {
     "name": "stdout",
     "output_type": "stream",
     "text": [
      "targeting path /storage/surfsara/ProRail_USE_LL_data/ehv/platform2.1/20220320\n",
      "Files listed. Accessible as <this-object>.filelist\n",
      "trying to fetch: /storage/surfsara/ProRail_USE_LL_data/ehv/platform2.1/20220320/EHV_Platform2.1_2022032000_trajectorie.parquet\n",
      "data fetched. Accessible as <this-object>.df\n",
      "trying to fetch: /storage/surfsara/ProRail_USE_LL_data/ehv/platform2.1/20220320/EHV_Platform2.1_2022032000_trajectorie.parquet\n",
      "data fetched. Accessible as <this-object>.df\n",
      "trying to fetch: /storage/surfsara/ProRail_USE_LL_data/ehv/platform2.1/20220320/EHV_Platform2.1_2022032001_trajectorie.parquet\n",
      "data fetched. Accessible as <this-object>.df\n",
      "trying to fetch: /storage/surfsara/ProRail_USE_LL_data/ehv/platform2.1/20220320/EHV_Platform2.1_2022032002_trajectorie.parquet\n",
      "data fetched. Accessible as <this-object>.df\n",
      "trying to fetch: /storage/surfsara/ProRail_USE_LL_data/ehv/platform2.1/20220320/EHV_Platform2.1_2022032003_trajectorie.parquet\n",
      "data fetched. Accessible as <this-object>.df\n",
      "trying to fetch: /storage/surfsara/ProRail_USE_LL_data/ehv/platform2.1/20220320/EHV_Platform2.1_2022032004_trajectorie.parquet\n",
      "data fetched. Accessible as <this-object>.df\n",
      "trying to fetch: /storage/surfsara/ProRail_USE_LL_data/ehv/platform2.1/20220320/EHV_Platform2.1_2022032005_trajectorie.parquet\n",
      "data fetched. Accessible as <this-object>.df\n",
      "trying to fetch: /storage/surfsara/ProRail_USE_LL_data/ehv/platform2.1/20220320/EHV_Platform2.1_2022032006_trajectorie.parquet\n",
      "data fetched. Accessible as <this-object>.df\n",
      "trying to fetch: /storage/surfsara/ProRail_USE_LL_data/ehv/platform2.1/20220320/EHV_Platform2.1_2022032007_trajectorie.parquet\n",
      "data fetched. Accessible as <this-object>.df\n",
      "trying to fetch: /storage/surfsara/ProRail_USE_LL_data/ehv/platform2.1/20220320/EHV_Platform2.1_2022032008_trajectorie.parquet\n",
      "data fetched. Accessible as <this-object>.df\n",
      "trying to fetch: /storage/surfsara/ProRail_USE_LL_data/ehv/platform2.1/20220320/EHV_Platform2.1_2022032009_trajectorie.parquet\n",
      "data fetched. Accessible as <this-object>.df\n",
      "trying to fetch: /storage/surfsara/ProRail_USE_LL_data/ehv/platform2.1/20220320/EHV_Platform2.1_2022032010_trajectorie.parquet\n",
      "data fetched. Accessible as <this-object>.df\n",
      "trying to fetch: /storage/surfsara/ProRail_USE_LL_data/ehv/platform2.1/20220320/EHV_Platform2.1_2022032011_trajectorie.parquet\n",
      "data fetched. Accessible as <this-object>.df\n",
      "trying to fetch: /storage/surfsara/ProRail_USE_LL_data/ehv/platform2.1/20220320/EHV_Platform2.1_2022032012_trajectorie.parquet\n",
      "data fetched. Accessible as <this-object>.df\n",
      "trying to fetch: /storage/surfsara/ProRail_USE_LL_data/ehv/platform2.1/20220320/EHV_Platform2.1_2022032013_trajectorie.parquet\n",
      "data fetched. Accessible as <this-object>.df\n",
      "trying to fetch: /storage/surfsara/ProRail_USE_LL_data/ehv/platform2.1/20220320/EHV_Platform2.1_2022032014_trajectorie.parquet\n",
      "data fetched. Accessible as <this-object>.df\n",
      "trying to fetch: /storage/surfsara/ProRail_USE_LL_data/ehv/platform2.1/20220320/EHV_Platform2.1_2022032015_trajectorie.parquet\n",
      "data fetched. Accessible as <this-object>.df\n",
      "trying to fetch: /storage/surfsara/ProRail_USE_LL_data/ehv/platform2.1/20220320/EHV_Platform2.1_2022032016_trajectorie.parquet\n",
      "data fetched. Accessible as <this-object>.df\n",
      "trying to fetch: /storage/surfsara/ProRail_USE_LL_data/ehv/platform2.1/20220320/EHV_Platform2.1_2022032017_trajectorie.parquet\n",
      "data fetched. Accessible as <this-object>.df\n",
      "trying to fetch: /storage/surfsara/ProRail_USE_LL_data/ehv/platform2.1/20220320/EHV_Platform2.1_2022032018_trajectorie.parquet\n",
      "data fetched. Accessible as <this-object>.df\n",
      "trying to fetch: /storage/surfsara/ProRail_USE_LL_data/ehv/platform2.1/20220320/EHV_Platform2.1_2022032019_trajectorie.parquet\n",
      "data fetched. Accessible as <this-object>.df\n",
      "trying to fetch: /storage/surfsara/ProRail_USE_LL_data/ehv/platform2.1/20220320/EHV_Platform2.1_2022032020_trajectorie.parquet\n",
      "data fetched. Accessible as <this-object>.df\n",
      "trying to fetch: /storage/surfsara/ProRail_USE_LL_data/ehv/platform2.1/20220320/EHV_Platform2.1_2022032021_trajectorie.parquet\n",
      "data fetched. Accessible as <this-object>.df\n",
      "trying to fetch: /storage/surfsara/ProRail_USE_LL_data/ehv/platform2.1/20220320/EHV_Platform2.1_2022032022_trajectorie.parquet\n",
      "data fetched. Accessible as <this-object>.df\n",
      "trying to fetch: /storage/surfsara/ProRail_USE_LL_data/ehv/platform2.1/20220320/EHV_Platform2.1_2022032023_trajectorie.parquet\n",
      "data fetched. Accessible as <this-object>.df\n"
     ]
    }
   ],
   "source": [
    "data = getDay(20220320, 'ehv')"
   ]
  },
  {
   "cell_type": "code",
   "execution_count": 37,
   "id": "6b4b66dc",
   "metadata": {},
   "outputs": [],
   "source": [
    "def direction_label(data):\n",
    "    def compute_direction(group):\n",
    "        first_appearance_index = group.index[0]\n",
    "        last_appearance_index = group.index[-1]\n",
    "        start_coordinate = group.loc[first_appearance_index]['x_pos']\n",
    "        end_coordinate = group.loc[last_appearance_index]['x_pos']\n",
    "        x_displacement = end_coordinate - start_coordinate\n",
    "        if x_displacement > 0:\n",
    "            return 'onboarding'\n",
    "        elif x_displacement < 0:\n",
    "            return 'offboarding'\n",
    "        else:\n",
    "            return 'undefined'\n",
    "    \n",
    "    result_series = data.groupby('tracked_object').apply(compute_direction)\n",
    "    result_df = result_series.to_frame()\n",
    "    result_df.columns = ['direction']\n",
    "    result_df = result_df.reset_index()\n",
    "    return result_df\n"
   ]
  },
  {
   "cell_type": "code",
   "execution_count": 38,
   "id": "9eccfc83",
   "metadata": {},
   "outputs": [
    {
     "name": "stdout",
     "output_type": "stream",
     "text": [
      "CPU times: user 10.4 s, sys: 95.2 ms, total: 10.5 s\n",
      "Wall time: 10.5 s\n"
     ]
    }
   ],
   "source": [
    "%%time\n",
    "directions = direction_label(data)"
   ]
  },
  {
   "cell_type": "code",
   "execution_count": 39,
   "id": "b0a93652",
   "metadata": {},
   "outputs": [
    {
     "data": {
      "text/html": [
       "<div>\n",
       "<style scoped>\n",
       "    .dataframe tbody tr th:only-of-type {\n",
       "        vertical-align: middle;\n",
       "    }\n",
       "\n",
       "    .dataframe tbody tr th {\n",
       "        vertical-align: top;\n",
       "    }\n",
       "\n",
       "    .dataframe thead th {\n",
       "        text-align: right;\n",
       "    }\n",
       "</style>\n",
       "<table border=\"1\" class=\"dataframe\">\n",
       "  <thead>\n",
       "    <tr style=\"text-align: right;\">\n",
       "      <th></th>\n",
       "      <th>tracked_object</th>\n",
       "      <th>direction</th>\n",
       "    </tr>\n",
       "  </thead>\n",
       "  <tbody>\n",
       "    <tr>\n",
       "      <th>0</th>\n",
       "      <td>3625345</td>\n",
       "      <td>offboarding</td>\n",
       "    </tr>\n",
       "    <tr>\n",
       "      <th>1</th>\n",
       "      <td>3625359</td>\n",
       "      <td>onboarding</td>\n",
       "    </tr>\n",
       "    <tr>\n",
       "      <th>2</th>\n",
       "      <td>3625382</td>\n",
       "      <td>offboarding</td>\n",
       "    </tr>\n",
       "    <tr>\n",
       "      <th>3</th>\n",
       "      <td>3625409</td>\n",
       "      <td>onboarding</td>\n",
       "    </tr>\n",
       "    <tr>\n",
       "      <th>4</th>\n",
       "      <td>3625508</td>\n",
       "      <td>onboarding</td>\n",
       "    </tr>\n",
       "    <tr>\n",
       "      <th>...</th>\n",
       "      <td>...</td>\n",
       "      <td>...</td>\n",
       "    </tr>\n",
       "    <tr>\n",
       "      <th>38558</th>\n",
       "      <td>3666363</td>\n",
       "      <td>offboarding</td>\n",
       "    </tr>\n",
       "    <tr>\n",
       "      <th>38559</th>\n",
       "      <td>3666364</td>\n",
       "      <td>offboarding</td>\n",
       "    </tr>\n",
       "    <tr>\n",
       "      <th>38560</th>\n",
       "      <td>3666365</td>\n",
       "      <td>offboarding</td>\n",
       "    </tr>\n",
       "    <tr>\n",
       "      <th>38561</th>\n",
       "      <td>3666366</td>\n",
       "      <td>offboarding</td>\n",
       "    </tr>\n",
       "    <tr>\n",
       "      <th>38562</th>\n",
       "      <td>3666367</td>\n",
       "      <td>offboarding</td>\n",
       "    </tr>\n",
       "  </tbody>\n",
       "</table>\n",
       "<p>38563 rows × 2 columns</p>\n",
       "</div>"
      ],
      "text/plain": [
       "       tracked_object    direction\n",
       "0             3625345  offboarding\n",
       "1             3625359   onboarding\n",
       "2             3625382  offboarding\n",
       "3             3625409   onboarding\n",
       "4             3625508   onboarding\n",
       "...               ...          ...\n",
       "38558         3666363  offboarding\n",
       "38559         3666364  offboarding\n",
       "38560         3666365  offboarding\n",
       "38561         3666366  offboarding\n",
       "38562         3666367  offboarding\n",
       "\n",
       "[38563 rows x 2 columns]"
      ]
     },
     "execution_count": 39,
     "metadata": {},
     "output_type": "execute_result"
    }
   ],
   "source": [
    "directions"
   ]
  },
  {
   "cell_type": "code",
   "execution_count": 40,
   "id": "73c4f0a1",
   "metadata": {},
   "outputs": [],
   "source": [
    "percentages = directions['direction'].value_counts(normalize=True) * 100"
   ]
  },
  {
   "cell_type": "code",
   "execution_count": 44,
   "id": "8a4acc1f",
   "metadata": {},
   "outputs": [
    {
     "name": "stderr",
     "output_type": "stream",
     "text": [
      "/tmp/ipykernel_1711/141387486.py:1: RuntimeWarning: divide by zero encountered in double_scalars\n",
      "  percentages['offboarding']/0\n"
     ]
    },
    {
     "data": {
      "text/plain": [
       "inf"
      ]
     },
     "execution_count": 44,
     "metadata": {},
     "output_type": "execute_result"
    }
   ],
   "source": [
    "percentages['offboarding']/0"
   ]
  }
 ],
 "metadata": {
  "kernelspec": {
   "display_name": "Python 3",
   "language": "python",
   "name": "python3"
  },
  "language_info": {
   "codemirror_mode": {
    "name": "ipython",
    "version": 3
   },
   "file_extension": ".py",
   "mimetype": "text/x-python",
   "name": "python",
   "nbconvert_exporter": "python",
   "pygments_lexer": "ipython3",
   "version": "3.8.8"
  }
 },
 "nbformat": 4,
 "nbformat_minor": 5
}
