{
 "cells": [
  {
   "cell_type": "code",
   "execution_count": 9,
   "id": "dbc8e52d",
   "metadata": {},
   "outputs": [],
   "source": [
    "import numpy as np\n",
    "import pandas as pd\n",
    "import csv"
   ]
  },
  {
   "cell_type": "code",
   "execution_count": 2,
   "id": "db60a548",
   "metadata": {},
   "outputs": [],
   "source": [
    "def scale_rows(arr):\n",
    "    # Check if rows are all zeros\n",
    "    all_zero_rows = np.all(arr == 0, axis=1)\n",
    "    # avoid division by zero\n",
    "    row_sums = arr.sum(axis=1, keepdims=True)\n",
    "    row_sums[row_sums == 0] = 1\n",
    "    arr = np.where(all_zero_rows[:, np.newaxis], arr, np.true_divide(arr, row_sums))\n",
    "    # replace nan with zero\n",
    "    arr = np.nan_to_num(arr)\n",
    "    return arr"
   ]
  },
  {
   "cell_type": "code",
   "execution_count": 3,
   "id": "5a09df73",
   "metadata": {},
   "outputs": [],
   "source": [
    "dissapearing_zones = []\n",
    "for i in range(1,14): dissapearing_zones.append(i)\n",
    "for i in range(841,938): dissapearing_zones.append(i)\n",
    "for i in range(938):\n",
    "    if i%14 == 0 and dissapearing_zones.count(i) == 0:\n",
    "        dissapearing_zones.append(i)\n",
    "        if i<=30 and i>13:\n",
    "            dissapearing_zones.append(i+1)\n",
    "for i in range(938):\n",
    "    if i%14 == 13 and dissapearing_zones.count(i) == 0:\n",
    "        dissapearing_zones.append(i)\n",
    "        if i>(48*14): dissapearing_zones.append(i-1)"
   ]
  },
  {
   "cell_type": "code",
   "execution_count": 4,
   "id": "3e30f4b7",
   "metadata": {},
   "outputs": [],
   "source": [
    "transition_matrix = pd.read_csv('results/offboarding/average.csv', header=None)\n",
    "transition_matrix = transition_matrix.to_numpy()"
   ]
  },
  {
   "cell_type": "code",
   "execution_count": 5,
   "id": "f4d94be1",
   "metadata": {},
   "outputs": [],
   "source": [
    "for i in range(len(transition_matrix)):\n",
    "    if dissapearing_zones.count(i) == 0:\n",
    "        transition_matrix[i][-1] = 0"
   ]
  },
  {
   "cell_type": "code",
   "execution_count": 6,
   "id": "5d348a7f",
   "metadata": {},
   "outputs": [],
   "source": [
    "n_transition_matrix = scale_rows(transition_matrix)"
   ]
  },
  {
   "cell_type": "code",
   "execution_count": 22,
   "id": "5b7c741b",
   "metadata": {},
   "outputs": [
    {
     "data": {
      "text/plain": [
       "[(1.0, 413), (1.4901160971803055e-08, 428)]"
      ]
     },
     "execution_count": 22,
     "metadata": {},
     "output_type": "execute_result"
    }
   ],
   "source": [
    "errors = []\n",
    "for i in range(len(n_transition_matrix)):\n",
    "    if n_transition_matrix[i][413] != 0:\n",
    "        errors.append((n_transition_matrix[i][413], i))\n",
    "errors"
   ]
  },
  {
   "cell_type": "code",
   "execution_count": 13,
   "id": "f12c0ded",
   "metadata": {},
   "outputs": [],
   "source": [
    "with open(\"clean_results/offboarding.csv\", \"w+\") as my_csv:\n",
    "        csvWriter = csv.writer(my_csv, delimiter=',')\n",
    "        csvWriter.writerows(n_transition_matrix)"
   ]
  }
 ],
 "metadata": {
  "kernelspec": {
   "display_name": "Python 3 (ipykernel)",
   "language": "python",
   "name": "python3"
  },
  "language_info": {
   "codemirror_mode": {
    "name": "ipython",
    "version": 3
   },
   "file_extension": ".py",
   "mimetype": "text/x-python",
   "name": "python",
   "nbconvert_exporter": "python",
   "pygments_lexer": "ipython3",
   "version": "3.10.8"
  }
 },
 "nbformat": 4,
 "nbformat_minor": 5
}
