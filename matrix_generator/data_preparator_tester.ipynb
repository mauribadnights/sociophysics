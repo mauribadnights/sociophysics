{
 "cells": [
  {
   "cell_type": "code",
   "execution_count": 2,
   "id": "66680205",
   "metadata": {},
   "outputs": [],
   "source": [
    "import sys\n",
    "sys.path.append('../')"
   ]
  },
  {
   "cell_type": "code",
   "execution_count": 3,
   "id": "93306c0b",
   "metadata": {},
   "outputs": [],
   "source": [
    "from data_preparator import *\n",
    "from libraries.dataManipulation import *"
   ]
  },
  {
   "cell_type": "code",
   "execution_count": 4,
   "id": "7a8a766b",
   "metadata": {},
   "outputs": [
    {
     "name": "stdout",
     "output_type": "stream",
     "text": [
      "CPU times: user 13.3 s, sys: 1.78 s, total: 15 s\n",
      "Wall time: 26.8 s\n"
     ]
    }
   ],
   "source": [
    "%%time\n",
    "%%capture\n",
    "data = getDay(20220314,'ehv')"
   ]
  },
  {
   "cell_type": "code",
   "execution_count": 7,
   "id": "eae53826",
   "metadata": {},
   "outputs": [
    {
     "name": "stdout",
     "output_type": "stream",
     "text": [
      "CPU times: user 24 s, sys: 1.68 s, total: 25.7 s\n",
      "Wall time: 26.7 s\n"
     ]
    }
   ],
   "source": [
    "%%time\n",
    "%%capture\n",
    "((data_on_train, data_on_no_train),data_off) = data_division(data)"
   ]
  },
  {
   "cell_type": "code",
   "execution_count": 8,
   "id": "405e61b1",
   "metadata": {},
   "outputs": [
    {
     "data": {
      "text/html": [
       "<div>\n",
       "<style scoped>\n",
       "    .dataframe tbody tr th:only-of-type {\n",
       "        vertical-align: middle;\n",
       "    }\n",
       "\n",
       "    .dataframe tbody tr th {\n",
       "        vertical-align: top;\n",
       "    }\n",
       "\n",
       "    .dataframe thead th {\n",
       "        text-align: right;\n",
       "    }\n",
       "</style>\n",
       "<table border=\"1\" class=\"dataframe\">\n",
       "  <thead>\n",
       "    <tr style=\"text-align: right;\">\n",
       "      <th></th>\n",
       "      <th>date_time_utc</th>\n",
       "      <th>tracked_object</th>\n",
       "      <th>y_pos</th>\n",
       "      <th>x_pos</th>\n",
       "      <th>datetime</th>\n",
       "      <th>time</th>\n",
       "    </tr>\n",
       "  </thead>\n",
       "  <tbody>\n",
       "    <tr>\n",
       "      <th>22999</th>\n",
       "      <td>2022-03-13 23:06:41.000</td>\n",
       "      <td>3351465</td>\n",
       "      <td>-6436.0</td>\n",
       "      <td>49048.0</td>\n",
       "      <td>2022-03-14 00:06:41+01:00</td>\n",
       "      <td>1647212801</td>\n",
       "    </tr>\n",
       "    <tr>\n",
       "      <th>23000</th>\n",
       "      <td>2022-03-13 23:06:41.000</td>\n",
       "      <td>3351468</td>\n",
       "      <td>-3063.0</td>\n",
       "      <td>59120.0</td>\n",
       "      <td>2022-03-14 00:06:41+01:00</td>\n",
       "      <td>1647212801</td>\n",
       "    </tr>\n",
       "    <tr>\n",
       "      <th>23004</th>\n",
       "      <td>2022-03-13 23:06:41.000</td>\n",
       "      <td>3351478</td>\n",
       "      <td>-5860.0</td>\n",
       "      <td>25609.0</td>\n",
       "      <td>2022-03-14 00:06:41+01:00</td>\n",
       "      <td>1647212801</td>\n",
       "    </tr>\n",
       "    <tr>\n",
       "      <th>23005</th>\n",
       "      <td>2022-03-13 23:06:41.000</td>\n",
       "      <td>3351479</td>\n",
       "      <td>-4962.0</td>\n",
       "      <td>26068.0</td>\n",
       "      <td>2022-03-14 00:06:41+01:00</td>\n",
       "      <td>1647212801</td>\n",
       "    </tr>\n",
       "    <tr>\n",
       "      <th>23006</th>\n",
       "      <td>2022-03-13 23:06:41.000</td>\n",
       "      <td>3351480</td>\n",
       "      <td>-5320.0</td>\n",
       "      <td>27575.0</td>\n",
       "      <td>2022-03-14 00:06:41+01:00</td>\n",
       "      <td>1647212801</td>\n",
       "    </tr>\n",
       "    <tr>\n",
       "      <th>...</th>\n",
       "      <td>...</td>\n",
       "      <td>...</td>\n",
       "      <td>...</td>\n",
       "      <td>...</td>\n",
       "      <td>...</td>\n",
       "      <td>...</td>\n",
       "    </tr>\n",
       "    <tr>\n",
       "      <th>21147286</th>\n",
       "      <td>2022-03-14 22:22:45.000</td>\n",
       "      <td>3393459</td>\n",
       "      <td>3468.0</td>\n",
       "      <td>16640.0</td>\n",
       "      <td>2022-03-14 23:22:45+01:00</td>\n",
       "      <td>1647296565</td>\n",
       "    </tr>\n",
       "    <tr>\n",
       "      <th>21147287</th>\n",
       "      <td>2022-03-14 22:22:45.100</td>\n",
       "      <td>3393459</td>\n",
       "      <td>3559.0</td>\n",
       "      <td>16605.0</td>\n",
       "      <td>2022-03-14 23:22:45.100000+01:00</td>\n",
       "      <td>1647296565</td>\n",
       "    </tr>\n",
       "    <tr>\n",
       "      <th>21147288</th>\n",
       "      <td>2022-03-14 22:22:45.200</td>\n",
       "      <td>3393459</td>\n",
       "      <td>3620.0</td>\n",
       "      <td>16582.0</td>\n",
       "      <td>2022-03-14 23:22:45.200000+01:00</td>\n",
       "      <td>1647296565</td>\n",
       "    </tr>\n",
       "    <tr>\n",
       "      <th>21147289</th>\n",
       "      <td>2022-03-14 22:22:45.300</td>\n",
       "      <td>3393459</td>\n",
       "      <td>3680.0</td>\n",
       "      <td>16563.0</td>\n",
       "      <td>2022-03-14 23:22:45.300000+01:00</td>\n",
       "      <td>1647296565</td>\n",
       "    </tr>\n",
       "    <tr>\n",
       "      <th>21147290</th>\n",
       "      <td>2022-03-14 22:22:45.400</td>\n",
       "      <td>3393459</td>\n",
       "      <td>3751.0</td>\n",
       "      <td>16537.0</td>\n",
       "      <td>2022-03-14 23:22:45.400000+01:00</td>\n",
       "      <td>1647296565</td>\n",
       "    </tr>\n",
       "  </tbody>\n",
       "</table>\n",
       "<p>6030586 rows × 6 columns</p>\n",
       "</div>"
      ],
      "text/plain": [
       "                   date_time_utc  tracked_object   y_pos    x_pos  \\\n",
       "22999    2022-03-13 23:06:41.000         3351465 -6436.0  49048.0   \n",
       "23000    2022-03-13 23:06:41.000         3351468 -3063.0  59120.0   \n",
       "23004    2022-03-13 23:06:41.000         3351478 -5860.0  25609.0   \n",
       "23005    2022-03-13 23:06:41.000         3351479 -4962.0  26068.0   \n",
       "23006    2022-03-13 23:06:41.000         3351480 -5320.0  27575.0   \n",
       "...                          ...             ...     ...      ...   \n",
       "21147286 2022-03-14 22:22:45.000         3393459  3468.0  16640.0   \n",
       "21147287 2022-03-14 22:22:45.100         3393459  3559.0  16605.0   \n",
       "21147288 2022-03-14 22:22:45.200         3393459  3620.0  16582.0   \n",
       "21147289 2022-03-14 22:22:45.300         3393459  3680.0  16563.0   \n",
       "21147290 2022-03-14 22:22:45.400         3393459  3751.0  16537.0   \n",
       "\n",
       "                                 datetime        time  \n",
       "22999           2022-03-14 00:06:41+01:00  1647212801  \n",
       "23000           2022-03-14 00:06:41+01:00  1647212801  \n",
       "23004           2022-03-14 00:06:41+01:00  1647212801  \n",
       "23005           2022-03-14 00:06:41+01:00  1647212801  \n",
       "23006           2022-03-14 00:06:41+01:00  1647212801  \n",
       "...                                   ...         ...  \n",
       "21147286        2022-03-14 23:22:45+01:00  1647296565  \n",
       "21147287 2022-03-14 23:22:45.100000+01:00  1647296565  \n",
       "21147288 2022-03-14 23:22:45.200000+01:00  1647296565  \n",
       "21147289 2022-03-14 23:22:45.300000+01:00  1647296565  \n",
       "21147290 2022-03-14 23:22:45.400000+01:00  1647296565  \n",
       "\n",
       "[6030586 rows x 6 columns]"
      ]
     },
     "execution_count": 8,
     "metadata": {},
     "output_type": "execute_result"
    }
   ],
   "source": [
    "data_on_train.iloc[0]"
   ]
  }
 ],
 "metadata": {
  "kernelspec": {
   "display_name": "Python 3 (ipykernel)",
   "language": "python",
   "name": "python3"
  },
  "language_info": {
   "codemirror_mode": {
    "name": "ipython",
    "version": 3
   },
   "file_extension": ".py",
   "mimetype": "text/x-python",
   "name": "python",
   "nbconvert_exporter": "python",
   "pygments_lexer": "ipython3",
   "version": "3.10.8"
  }
 },
 "nbformat": 4,
 "nbformat_minor": 5
}
