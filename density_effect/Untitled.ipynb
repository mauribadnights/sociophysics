{
 "cells": [
  {
   "cell_type": "code",
   "execution_count": 3,
   "metadata": {},
   "outputs": [],
   "source": [
    "import sys\n",
    "sys.path.append(\"../\")"
   ]
  },
  {
   "cell_type": "code",
   "execution_count": 5,
   "metadata": {
    "scrolled": true
   },
   "outputs": [],
   "source": [
    "from libraries.dataManipulation import *\n",
    "from libraries.gridManipulation import *"
   ]
  },
  {
   "cell_type": "code",
   "execution_count": null,
   "metadata": {},
   "outputs": [],
   "source": [
    "#GRID CONFIGURATION IS DECLARED\n",
    "o_x = 5000\n",
    "o_y = -10000\n",
    "o = (o_x,o_y)\n",
    "\n",
    "patch_width = 3750\n",
    "patch_height = 3750\n",
    "patch_size = (patch_width, patch_height)\n",
    "\n",
    "total_patches = (18,4)\n",
    "abs_total_patches = total_patches[0]*total_patches[1]\n",
    "\n",
    "grid_angle = 0.9"
   ]
  },
  {
   "cell_type": "code",
   "execution_count": null,
   "metadata": {},
   "outputs": [],
   "source": [
    "#GRID IS CREATED USING CONFIG\n",
    "grid = create_grid(o, patch_size, total_patches, grid_angle)\n",
    "#GRID IS PLOTTED ON STATION\n",
    "plot_grid(grid, 'ehv')"
   ]
  },
  {
   "cell_type": "code",
   "execution_count": null,
   "metadata": {},
   "outputs": [],
   "source": [
    "import numpy as np\n",
    "import matplotlib.pyplot as plt\n",
    "import matplotlib.patches as patches\n",
    "import pandas as pd\n",
    "import warnings\n",
    "warnings.filterwarnings(action='once')\n",
    "\n",
    "!pip install sociophysicsdatahandler\n",
    "from sociophysicsDataHandler import SociophysicsDataHandler\n",
    "\n",
    "!cat auth.txt\n",
    "\n",
    "dh = SociophysicsDataHandler()\n",
    "dh.list_files('ut')\n",
    "\n",
    "def fetchData(path):\n",
    "  #Fetch and combine all data from a directory\n",
    "  file_list = dh.list_files(path)\n",
    "  n = file_list.name.size\n",
    "  df_array = np.empty(n, dtype=object)\n",
    "\n",
    "  for i in range(n):\n",
    "    dh.fetch_prorail_data_from_path(path + \"/\" + file_list.name[i]);\n",
    "    #Convert the date time column to actual date time\n",
    "    dh.df['date_time_utc'] = pd.to_datetime(dh.df['date_time_utc'], unit = 'ms')\n",
    "    #Swap x and y\n",
    "    column_titles = {'date_time_utc':'date_time_utc', 'tracked_object':'tracked_object', 'x_pos':'y_pos', 'y_pos':'x_pos'}\n",
    "    dh.df.rename(columns = column_titles, inplace = True)\n",
    "\n",
    "    df_array[i] = dh.df\n",
    "\n",
    "  return pd.concat(df_array)\n",
    "\n",
    "\n",
    "file_path = 'ehv/platform2.1/20210330/'\n",
    "\n",
    "\n",
    "#fLst = dh.list_files(file_path)\n",
    "#fLst\n",
    "\n",
    "def checkBounds(df, limits, x_tag = 'x_pos', y_tag = 'y_pos'):\n",
    "  x_lower = limits[0]\n",
    "  x_upper = limits[1]\n",
    "  y_lower = limits[2]\n",
    "  y_upper = limits[3]\n",
    "\n",
    "  within_xbounds_series = (df[x_tag] < x_upper) & (df[x_tag] > x_lower)\n",
    "  within_ybounds_series = (df[y_tag] < y_upper) & (df[y_tag] > y_lower)\n",
    "  within_bounds_series = within_xbounds_series & within_ybounds_series\n",
    "  return within_bounds_series\n",
    "\n",
    "# fetch the data from the first file\n",
    "df = fetchData(file_path);\n",
    "df.head()\n",
    "\n",
    "df_grouped_by_id = df.groupby('tracked_object')\n",
    "df_object_start_location = df_grouped_by_id.first()\n",
    "df_object_end_location = df_grouped_by_id.last()"
   ]
  }
 ],
 "metadata": {
  "kernelspec": {
   "display_name": "Python 3",
   "language": "python",
   "name": "python3"
  },
  "language_info": {
   "codemirror_mode": {
    "name": "ipython",
    "version": 3
   },
   "file_extension": ".py",
   "mimetype": "text/x-python",
   "name": "python",
   "nbconvert_exporter": "python",
   "pygments_lexer": "ipython3",
   "version": "3.7.6"
  }
 },
 "nbformat": 4,
 "nbformat_minor": 5
}
