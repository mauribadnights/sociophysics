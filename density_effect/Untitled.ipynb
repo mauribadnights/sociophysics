{
 "cells": [
  {
   "cell_type": "code",
   "execution_count": 3,
   "id": "983355f6",
   "metadata": {},
   "outputs": [],
   "source": [
    "import sys\n",
    "sys.path.append(\"../\")"
   ]
  },
  {
   "cell_type": "code",
   "execution_count": 5,
   "id": "1371d83f",
   "metadata": {
    "scrolled": true
   },
   "outputs": [],
   "source": [
    "from libraries.dataManipulation import *\n",
    "from libraries.gridManipulation import *"
   ]
  },
  {
   "cell_type": "code",
   "execution_count": null,
   "id": "bf0ce2ca",
   "metadata": {},
   "outputs": [],
   "source": [
    "#GRID CONFIGURATION IS DECLARED\n",
    "o_x = 5000\n",
    "o_y = -10000\n",
    "o = (o_x,o_y)\n",
    "\n",
    "patch_width = 3750\n",
    "patch_height = 3750\n",
    "patch_size = (patch_width, patch_height)\n",
    "\n",
    "total_patches = (18,4)\n",
    "abs_total_patches = total_patches[0]*total_patches[1]\n",
    "\n",
    "grid_angle = 0.9"
   ]
  },
  {
   "cell_type": "code",
   "execution_count": null,
   "id": "8805849d",
   "metadata": {},
   "outputs": [],
   "source": [
    "#GRID IS CREATED USING CONFIG\n",
    "grid = create_grid(o, patch_size, total_patches, grid_angle)\n",
    "#GRID IS PLOTTED ON STATION\n",
    "plot_grid(grid, 'ehv')"
   ]
  }
 ],
 "metadata": {
  "kernelspec": {
   "display_name": "Python 3 (ipykernel)",
   "language": "python",
   "name": "python3"
  },
  "language_info": {
   "codemirror_mode": {
    "name": "ipython",
    "version": 3
   },
   "file_extension": ".py",
   "mimetype": "text/x-python",
   "name": "python",
   "nbconvert_exporter": "python",
   "pygments_lexer": "ipython3",
   "version": "3.9.12"
  }
 },
 "nbformat": 4,
 "nbformat_minor": 5
}
