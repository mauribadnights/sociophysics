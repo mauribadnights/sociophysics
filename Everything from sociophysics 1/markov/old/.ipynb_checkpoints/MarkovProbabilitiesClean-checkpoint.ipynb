{
 "cells": [
  {
   "cell_type": "code",
   "execution_count": null,
   "id": "e03669ab",
   "metadata": {},
   "outputs": [],
   "source": [
    "import sys\n",
    "sys.path.append(\"../..\")"
   ]
  },
  {
   "cell_type": "code",
   "execution_count": null,
   "id": "648a371b",
   "metadata": {},
   "outputs": [],
   "source": [
    "from libraries.dataManipulation import *\n",
    "from libraries.gridManipulation import *\n",
    "import matplotlib.patches as patches"
   ]
  },
  {
   "cell_type": "code",
   "execution_count": null,
   "id": "1f89388f",
   "metadata": {},
   "outputs": [],
   "source": [
    "#GRID CONFIGURATION IS DECLARED\n",
    "o_x = 5000\n",
    "o_y = -10000\n",
    "o = (o_x,o_y)\n",
    "\n",
    "patch_width = 3750\n",
    "patch_height = 3750\n",
    "patch_size = (patch_width, patch_height)\n",
    "\n",
    "total_patches = (18,4)\n",
    "abs_total_patches = total_patches[0]*total_patches[1]\n",
    "\n",
    "grid_angle = 0.9"
   ]
  },
  {
   "cell_type": "code",
   "execution_count": null,
   "id": "0027c3c6",
   "metadata": {},
   "outputs": [],
   "source": [
    "#GRID IS CREATED USING CONFIG\n",
    "grid = create_grid(o, patch_size, total_patches, grid_angle)"
   ]
  },
  {
   "cell_type": "code",
   "execution_count": null,
   "id": "17841eb0",
   "metadata": {},
   "outputs": [],
   "source": [
    "#GRID IS PLOTTED ON STATION\n",
    "plot_grid(grid, 'ehv')"
   ]
  },
  {
   "cell_type": "code",
   "execution_count": null,
   "id": "7f4f87f7",
   "metadata": {},
   "outputs": [],
   "source": [
    "%%capture\n",
    "#data = getHours(0,2,20210330, 'ehv')\n",
    "data = getDay(20220320, 'ehv')\n",
    "\n",
    "data = data.drop(data[data.x_pos < o_x].index)\n",
    "data = data.drop(data[data.y_pos < o_y].index)\n",
    "data = data.drop(data[data.x_pos > (total_patches[0]-1)*patch_width].index)\n",
    "data = data.drop(data[data.y_pos > (total_patches[1]-1)*patch_height].index)"
   ]
  },
  {
   "cell_type": "code",
   "execution_count": null,
   "id": "58c4cbdb",
   "metadata": {},
   "outputs": [],
   "source": [
    "data"
   ]
  },
  {
   "cell_type": "code",
   "execution_count": null,
   "id": "e1f7b84d",
   "metadata": {},
   "outputs": [],
   "source": [
    "#INITIALIZE MARKOV MATRIX TO APPROPIATE SIZE ALL 0s\n",
    "markov_matrix = []\n",
    "for i in range(abs_total_patches):\n",
    "    markov_matrix.append([])\n",
    "    for j in range(abs_total_patches):\n",
    "        markov_matrix[i].append(0)\n",
    "\n",
    "#CREATE DICTIONARY THAT NAMES EACH ZONE WITH AN INDEX FOR MARKOV MATRIX\n",
    "markov_matrix_zone_reference = {}\n",
    "index = 0;\n",
    "for i,j in grid:\n",
    "    markov_matrix_zone_reference[(i,j)] = index\n",
    "    index = index + 1\n"
   ]
  },
  {
   "cell_type": "code",
   "execution_count": null,
   "id": "897222e7",
   "metadata": {},
   "outputs": [],
   "source": [
    "object_routes = {}\n",
    "for x in (data.tracked_object.unique()):\n",
    "    object_routes[x] = []"
   ]
  },
  {
   "cell_type": "code",
   "execution_count": null,
   "id": "35daa5c3",
   "metadata": {},
   "outputs": [],
   "source": [
    "%%time\n",
    "sample_period = 1\n",
    "\n",
    "for x in object_routes:\n",
    "    object_data = data[data['tracked_object'] == x].reset_index().drop('index', axis=1)\n",
    "    for y in range(0, len(object_data)-1, sample_period*10):\n",
    "        curr_point = (object_data.x_pos[y],object_data.y_pos[y])\n",
    "        curr_patch = point_patch(o,patch_size,curr_point)\n",
    "        object_routes[x].append(curr_patch)"
   ]
  },
  {
   "cell_type": "code",
   "execution_count": null,
   "id": "8165ed12",
   "metadata": {},
   "outputs": [],
   "source": [
    "#object_routes"
   ]
  },
  {
   "cell_type": "code",
   "execution_count": null,
   "id": "15297152",
   "metadata": {},
   "outputs": [],
   "source": [
    "all_users_route = []\n",
    "for user in object_routes:\n",
    "    user_route = object_routes[user]\n",
    "    for zone in range(len(user_route)):\n",
    "        all_users_route.append(markov_matrix_zone_reference[user_route[zone]])\n",
    "    all_users_route.append(-1)"
   ]
  },
  {
   "cell_type": "code",
   "execution_count": null,
   "id": "8db70bb2",
   "metadata": {},
   "outputs": [],
   "source": [
    "change_count = {}\n",
    "zone_appearance_count = {}\n",
    "for zone in range(len(all_users_route)):\n",
    "    curr_zone = all_users_route[zone]\n",
    "    if (zone+1 == len(all_users_route)):\n",
    "        next_zone = -1\n",
    "    else: next_zone = all_users_route[zone+1]\n",
    "    if next_zone != -1 and curr_zone != -1:\n",
    "        if ((curr_zone,next_zone) in change_count):\n",
    "            change_count[(curr_zone,next_zone)] += 1\n",
    "        else:\n",
    "            change_count[(curr_zone,next_zone)] = 1\n",
    "        if (curr_zone in zone_appearance_count):\n",
    "            zone_appearance_count[(curr_zone)] += 1\n",
    "        else:\n",
    "            zone_appearance_count[(curr_zone)] = 1\n",
    "        "
   ]
  },
  {
   "cell_type": "code",
   "execution_count": null,
   "id": "4e82af2a",
   "metadata": {},
   "outputs": [],
   "source": [
    "change_probabilities = {}\n",
    "for zone_1, zone_2 in change_count:\n",
    "    change_probabilities[(zone_1,zone_2)] = change_count[(zone_1,zone_2)]/zone_appearance_count[zone_1]\n",
    "    markov_matrix[zone_1][zone_2] = change_probabilities[(zone_1,zone_2)]"
   ]
  },
  {
   "cell_type": "code",
   "execution_count": null,
   "id": "7ec2de14",
   "metadata": {},
   "outputs": [],
   "source": [
    "#change_probabilities\n",
    "markov_matrix"
   ]
  },
  {
   "cell_type": "code",
   "execution_count": null,
   "id": "54ad0c8b",
   "metadata": {},
   "outputs": [],
   "source": [
    "markov_matrix[2][63]"
   ]
  }
 ],
 "metadata": {
  "kernelspec": {
   "display_name": "Python 3 (ipykernel)",
   "language": "python",
   "name": "python3"
  },
  "language_info": {
   "codemirror_mode": {
    "name": "ipython",
    "version": 3
   },
   "file_extension": ".py",
   "mimetype": "text/x-python",
   "name": "python",
   "nbconvert_exporter": "python",
   "pygments_lexer": "ipython3",
   "version": "3.10.8"
  }
 },
 "nbformat": 4,
 "nbformat_minor": 5
}
